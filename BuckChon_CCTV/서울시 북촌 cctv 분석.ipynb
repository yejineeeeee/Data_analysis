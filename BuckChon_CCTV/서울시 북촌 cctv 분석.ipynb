{
 "cells": [
  {
   "cell_type": "code",
   "execution_count": 1,
   "metadata": {},
   "outputs": [
    {
     "name": "stdout",
     "output_type": "stream",
     "text": [
      "Requirement already satisfied: requests in c:\\users\\82108\\anaconda3\\lib\\site-packages (2.24.0)\n",
      "Requirement already satisfied: chardet<4,>=3.0.2 in c:\\users\\82108\\anaconda3\\lib\\site-packages (from requests) (3.0.4)\n",
      "Requirement already satisfied: idna<3,>=2.5 in c:\\users\\82108\\anaconda3\\lib\\site-packages (from requests) (2.10)\n",
      "Requirement already satisfied: certifi>=2017.4.17 in c:\\users\\82108\\anaconda3\\lib\\site-packages (from requests) (2020.6.20)\n",
      "Requirement already satisfied: urllib3!=1.25.0,!=1.25.1,<1.26,>=1.21.1 in c:\\users\\82108\\anaconda3\\lib\\site-packages (from requests) (1.25.11)\n",
      "Requirement already satisfied: IPython in c:\\users\\82108\\anaconda3\\lib\\site-packages (7.19.0)\n",
      "Requirement already satisfied: setuptools>=18.5 in c:\\users\\82108\\anaconda3\\lib\\site-packages (from IPython) (50.3.1.post20201107)\n",
      "Requirement already satisfied: prompt-toolkit!=3.0.0,!=3.0.1,<3.1.0,>=2.0.0 in c:\\users\\82108\\anaconda3\\lib\\site-packages (from IPython) (3.0.8)\n",
      "Requirement already satisfied: decorator in c:\\users\\82108\\anaconda3\\lib\\site-packages (from IPython) (4.4.2)\n",
      "Requirement already satisfied: pickleshare in c:\\users\\82108\\anaconda3\\lib\\site-packages (from IPython) (0.7.5)\n",
      "Requirement already satisfied: pygments in c:\\users\\82108\\anaconda3\\lib\\site-packages (from IPython) (2.7.2)\n",
      "Requirement already satisfied: traitlets>=4.2 in c:\\users\\82108\\anaconda3\\lib\\site-packages (from IPython) (5.0.5)\n",
      "Requirement already satisfied: backcall in c:\\users\\82108\\anaconda3\\lib\\site-packages (from IPython) (0.2.0)\n",
      "Requirement already satisfied: jedi>=0.10 in c:\\users\\82108\\anaconda3\\lib\\site-packages (from IPython) (0.17.1)\n",
      "Requirement already satisfied: colorama; sys_platform == \"win32\" in c:\\users\\82108\\anaconda3\\lib\\site-packages (from IPython) (0.4.4)\n",
      "Requirement already satisfied: wcwidth in c:\\users\\82108\\anaconda3\\lib\\site-packages (from prompt-toolkit!=3.0.0,!=3.0.1,<3.1.0,>=2.0.0->IPython) (0.2.5)\n",
      "Requirement already satisfied: ipython-genutils in c:\\users\\82108\\anaconda3\\lib\\site-packages (from traitlets>=4.2->IPython) (0.2.0)\n",
      "Requirement already satisfied: parso<0.8.0,>=0.7.0 in c:\\users\\82108\\anaconda3\\lib\\site-packages (from jedi>=0.10->IPython) (0.7.0)\n"
     ]
    }
   ],
   "source": [
    "import os\n",
    "import json\n",
    "import pandas as pd\n",
    "import numpy as np\n",
    "\n",
    "!pip install requests\n",
    "import seaborn as sns\n",
    "import requests\n",
    "\n",
    "import matplotlib.pyplot as plt\n",
    "\n",
    "import warnings\n",
    "warnings.filterwarnings(action='ignore')\n",
    "\n",
    "!pip install IPython \n",
    "from IPython.display import Image"
   ]
  },
  {
   "cell_type": "markdown",
   "metadata": {},
   "source": [
    "## 데이터 합치기"
   ]
  },
  {
   "cell_type": "code",
   "execution_count": 4,
   "metadata": {},
   "outputs": [
    {
     "data": {
      "text/html": [
       "<div>\n",
       "<style scoped>\n",
       "    .dataframe tbody tr th:only-of-type {\n",
       "        vertical-align: middle;\n",
       "    }\n",
       "\n",
       "    .dataframe tbody tr th {\n",
       "        vertical-align: top;\n",
       "    }\n",
       "\n",
       "    .dataframe thead th {\n",
       "        text-align: right;\n",
       "    }\n",
       "</style>\n",
       "<table border=\"1\" class=\"dataframe\">\n",
       "  <thead>\n",
       "    <tr style=\"text-align: right;\">\n",
       "      <th></th>\n",
       "      <th>DEVICEID</th>\n",
       "      <th>DEVICENAME</th>\n",
       "      <th>DESCRIPTION</th>\n",
       "      <th>STARTTIME</th>\n",
       "      <th>ENDTIME</th>\n",
       "      <th>INCOUNT</th>\n",
       "      <th>OUTCOUNT</th>\n",
       "    </tr>\n",
       "  </thead>\n",
       "  <tbody>\n",
       "    <tr>\n",
       "      <th>0</th>\n",
       "      <td>2.0</td>\n",
       "      <td>계동길 69</td>\n",
       "      <td>계동교회 앞</td>\n",
       "      <td>2023-01-29 17:00:40</td>\n",
       "      <td>2023-01-29 17:10:40</td>\n",
       "      <td>2600.0</td>\n",
       "      <td>3495.0</td>\n",
       "    </tr>\n",
       "    <tr>\n",
       "      <th>1</th>\n",
       "      <td>1.0</td>\n",
       "      <td>율곡로3길 50</td>\n",
       "      <td>덕성여고 앞</td>\n",
       "      <td>2023-01-29 17:00:40</td>\n",
       "      <td>2023-01-29 17:10:40</td>\n",
       "      <td>2820.0</td>\n",
       "      <td>3291.0</td>\n",
       "    </tr>\n",
       "    <tr>\n",
       "      <th>2</th>\n",
       "      <td>2.0</td>\n",
       "      <td>계동길 69</td>\n",
       "      <td>계동교회 앞</td>\n",
       "      <td>2023-01-29 17:10:40</td>\n",
       "      <td>2023-01-29 17:20:40</td>\n",
       "      <td>2640.0</td>\n",
       "      <td>3546.0</td>\n",
       "    </tr>\n",
       "    <tr>\n",
       "      <th>3</th>\n",
       "      <td>1.0</td>\n",
       "      <td>율곡로3길 50</td>\n",
       "      <td>덕성여고 앞</td>\n",
       "      <td>2023-01-29 17:10:40</td>\n",
       "      <td>2023-01-29 17:20:40</td>\n",
       "      <td>2857.0</td>\n",
       "      <td>3429.0</td>\n",
       "    </tr>\n",
       "    <tr>\n",
       "      <th>4</th>\n",
       "      <td>2.0</td>\n",
       "      <td>계동길 69</td>\n",
       "      <td>계동교회 앞</td>\n",
       "      <td>2023-01-29 17:20:40</td>\n",
       "      <td>2023-01-29 17:30:40</td>\n",
       "      <td>2683.0</td>\n",
       "      <td>3599.0</td>\n",
       "    </tr>\n",
       "    <tr>\n",
       "      <th>...</th>\n",
       "      <td>...</td>\n",
       "      <td>...</td>\n",
       "      <td>...</td>\n",
       "      <td>...</td>\n",
       "      <td>...</td>\n",
       "      <td>...</td>\n",
       "      <td>...</td>\n",
       "    </tr>\n",
       "    <tr>\n",
       "      <th>995</th>\n",
       "      <td>4.0</td>\n",
       "      <td>북촌로5가길 38</td>\n",
       "      <td>삼청파출소 사잇길</td>\n",
       "      <td>2022-10-28 15:00:42</td>\n",
       "      <td>2022-10-28 15:10:42</td>\n",
       "      <td>2937.0</td>\n",
       "      <td>3324.0</td>\n",
       "    </tr>\n",
       "    <tr>\n",
       "      <th>996</th>\n",
       "      <td>2.0</td>\n",
       "      <td>계동길 69</td>\n",
       "      <td>계동교회 앞</td>\n",
       "      <td>2022-10-28 15:10:42</td>\n",
       "      <td>2022-10-28 15:20:42</td>\n",
       "      <td>16067.0</td>\n",
       "      <td>16449.0</td>\n",
       "    </tr>\n",
       "    <tr>\n",
       "      <th>997</th>\n",
       "      <td>4.0</td>\n",
       "      <td>북촌로5가길 38</td>\n",
       "      <td>삼청파출소 사잇길</td>\n",
       "      <td>2022-10-28 15:10:42</td>\n",
       "      <td>2022-10-28 15:20:42</td>\n",
       "      <td>3090.0</td>\n",
       "      <td>3443.0</td>\n",
       "    </tr>\n",
       "    <tr>\n",
       "      <th>998</th>\n",
       "      <td>2.0</td>\n",
       "      <td>계동길 69</td>\n",
       "      <td>계동교회 앞</td>\n",
       "      <td>2022-10-28 15:20:42</td>\n",
       "      <td>2022-10-28 15:30:42</td>\n",
       "      <td>16282.0</td>\n",
       "      <td>16699.0</td>\n",
       "    </tr>\n",
       "    <tr>\n",
       "      <th>999</th>\n",
       "      <td>4.0</td>\n",
       "      <td>북촌로5가길 38</td>\n",
       "      <td>삼청파출소 사잇길</td>\n",
       "      <td>2022-10-28 15:20:42</td>\n",
       "      <td>2022-10-28 15:30:42</td>\n",
       "      <td>3182.0</td>\n",
       "      <td>3556.0</td>\n",
       "    </tr>\n",
       "  </tbody>\n",
       "</table>\n",
       "<p>29276 rows × 7 columns</p>\n",
       "</div>"
      ],
      "text/plain": [
       "     DEVICEID DEVICENAME DESCRIPTION            STARTTIME  \\\n",
       "0         2.0     계동길 69      계동교회 앞  2023-01-29 17:00:40   \n",
       "1         1.0   율곡로3길 50      덕성여고 앞  2023-01-29 17:00:40   \n",
       "2         2.0     계동길 69      계동교회 앞  2023-01-29 17:10:40   \n",
       "3         1.0   율곡로3길 50      덕성여고 앞  2023-01-29 17:10:40   \n",
       "4         2.0     계동길 69      계동교회 앞  2023-01-29 17:20:40   \n",
       "..        ...        ...         ...                  ...   \n",
       "995       4.0  북촌로5가길 38   삼청파출소 사잇길  2022-10-28 15:00:42   \n",
       "996       2.0     계동길 69      계동교회 앞  2022-10-28 15:10:42   \n",
       "997       4.0  북촌로5가길 38   삼청파출소 사잇길  2022-10-28 15:10:42   \n",
       "998       2.0     계동길 69      계동교회 앞  2022-10-28 15:20:42   \n",
       "999       4.0  북촌로5가길 38   삼청파출소 사잇길  2022-10-28 15:20:42   \n",
       "\n",
       "                 ENDTIME  INCOUNT  OUTCOUNT  \n",
       "0    2023-01-29 17:10:40   2600.0    3495.0  \n",
       "1    2023-01-29 17:10:40   2820.0    3291.0  \n",
       "2    2023-01-29 17:20:40   2640.0    3546.0  \n",
       "3    2023-01-29 17:20:40   2857.0    3429.0  \n",
       "4    2023-01-29 17:30:40   2683.0    3599.0  \n",
       "..                   ...      ...       ...  \n",
       "995  2022-10-28 15:10:42   2937.0    3324.0  \n",
       "996  2022-10-28 15:20:42  16067.0   16449.0  \n",
       "997  2022-10-28 15:20:42   3090.0    3443.0  \n",
       "998  2022-10-28 15:30:42  16282.0   16699.0  \n",
       "999  2022-10-28 15:30:42   3182.0    3556.0  \n",
       "\n",
       "[29276 rows x 7 columns]"
      ]
     },
     "execution_count": 4,
     "metadata": {},
     "output_type": "execute_result"
    }
   ],
   "source": [
    "apikey = '64514c67676b696d33395a46436c56'\n",
    "file_type = 'json'\n",
    "service_name = 'BukChonInOutPeopleInfo'\n",
    "\n",
    "start = 1\n",
    "end = 1000\n",
    "\n",
    "all_data = pd.DataFrame()\n",
    "for i in range(0, 30):\n",
    "    url = f'http://openapi.seoul.go.kr:8088/{apikey}/{file_type}/BukChonInOutPeopleInfo/{start}/{end}/'\n",
    "    res = requests.get(url)\n",
    "    data = res.text\n",
    "    dict_data = json.loads(data)\n",
    "    dict_data['BukChonInOutPeopleInfo']\n",
    "    df = pd.DataFrame(dict_data['BukChonInOutPeopleInfo']['row'])\n",
    "    all_data = pd.concat([df,all_data])\n",
    "    start += 1000\n",
    "    end += 1000\n",
    "all_data"
   ]
  },
  {
   "cell_type": "code",
   "execution_count": 5,
   "metadata": {
    "scrolled": false
   },
   "outputs": [
    {
     "data": {
      "text/html": [
       "<div>\n",
       "<style scoped>\n",
       "    .dataframe tbody tr th:only-of-type {\n",
       "        vertical-align: middle;\n",
       "    }\n",
       "\n",
       "    .dataframe tbody tr th {\n",
       "        vertical-align: top;\n",
       "    }\n",
       "\n",
       "    .dataframe thead th {\n",
       "        text-align: right;\n",
       "    }\n",
       "</style>\n",
       "<table border=\"1\" class=\"dataframe\">\n",
       "  <thead>\n",
       "    <tr style=\"text-align: right;\">\n",
       "      <th></th>\n",
       "      <th>DEVICEID</th>\n",
       "      <th>DEVICENAME</th>\n",
       "      <th>DESCRIPTION</th>\n",
       "      <th>STARTTIME</th>\n",
       "      <th>ENDTIME</th>\n",
       "      <th>INCOUNT</th>\n",
       "      <th>OUTCOUNT</th>\n",
       "    </tr>\n",
       "  </thead>\n",
       "  <tbody>\n",
       "    <tr>\n",
       "      <th>0</th>\n",
       "      <td>2.0</td>\n",
       "      <td>계동길 69</td>\n",
       "      <td>계동교회 앞</td>\n",
       "      <td>2023-01-29 17:00:40</td>\n",
       "      <td>2023-01-29 17:10:40</td>\n",
       "      <td>2600.0</td>\n",
       "      <td>3495.0</td>\n",
       "    </tr>\n",
       "    <tr>\n",
       "      <th>1</th>\n",
       "      <td>1.0</td>\n",
       "      <td>율곡로3길 50</td>\n",
       "      <td>덕성여고 앞</td>\n",
       "      <td>2023-01-29 17:00:40</td>\n",
       "      <td>2023-01-29 17:10:40</td>\n",
       "      <td>2820.0</td>\n",
       "      <td>3291.0</td>\n",
       "    </tr>\n",
       "    <tr>\n",
       "      <th>2</th>\n",
       "      <td>2.0</td>\n",
       "      <td>계동길 69</td>\n",
       "      <td>계동교회 앞</td>\n",
       "      <td>2023-01-29 17:10:40</td>\n",
       "      <td>2023-01-29 17:20:40</td>\n",
       "      <td>2640.0</td>\n",
       "      <td>3546.0</td>\n",
       "    </tr>\n",
       "    <tr>\n",
       "      <th>3</th>\n",
       "      <td>1.0</td>\n",
       "      <td>율곡로3길 50</td>\n",
       "      <td>덕성여고 앞</td>\n",
       "      <td>2023-01-29 17:10:40</td>\n",
       "      <td>2023-01-29 17:20:40</td>\n",
       "      <td>2857.0</td>\n",
       "      <td>3429.0</td>\n",
       "    </tr>\n",
       "    <tr>\n",
       "      <th>4</th>\n",
       "      <td>2.0</td>\n",
       "      <td>계동길 69</td>\n",
       "      <td>계동교회 앞</td>\n",
       "      <td>2023-01-29 17:20:40</td>\n",
       "      <td>2023-01-29 17:30:40</td>\n",
       "      <td>2683.0</td>\n",
       "      <td>3599.0</td>\n",
       "    </tr>\n",
       "    <tr>\n",
       "      <th>...</th>\n",
       "      <td>...</td>\n",
       "      <td>...</td>\n",
       "      <td>...</td>\n",
       "      <td>...</td>\n",
       "      <td>...</td>\n",
       "      <td>...</td>\n",
       "      <td>...</td>\n",
       "    </tr>\n",
       "    <tr>\n",
       "      <th>271</th>\n",
       "      <td>1.0</td>\n",
       "      <td>율곡로3길 50</td>\n",
       "      <td>덕성여고 앞</td>\n",
       "      <td>2023-01-30 15:50:41</td>\n",
       "      <td>2023-01-30 16:00:41</td>\n",
       "      <td>3451.0</td>\n",
       "      <td>2067.0</td>\n",
       "    </tr>\n",
       "    <tr>\n",
       "      <th>272</th>\n",
       "      <td>2.0</td>\n",
       "      <td>계동길 69</td>\n",
       "      <td>계동교회 앞</td>\n",
       "      <td>2023-01-30 16:00:41</td>\n",
       "      <td>2023-01-30 16:10:41</td>\n",
       "      <td>2272.0</td>\n",
       "      <td>3522.0</td>\n",
       "    </tr>\n",
       "    <tr>\n",
       "      <th>273</th>\n",
       "      <td>1.0</td>\n",
       "      <td>율곡로3길 50</td>\n",
       "      <td>덕성여고 앞</td>\n",
       "      <td>2023-01-30 16:00:41</td>\n",
       "      <td>2023-01-30 16:10:41</td>\n",
       "      <td>3561.0</td>\n",
       "      <td>2162.0</td>\n",
       "    </tr>\n",
       "    <tr>\n",
       "      <th>274</th>\n",
       "      <td>2.0</td>\n",
       "      <td>계동길 69</td>\n",
       "      <td>계동교회 앞</td>\n",
       "      <td>2023-01-30 16:10:41</td>\n",
       "      <td>2023-01-30 16:20:41</td>\n",
       "      <td>2299.0</td>\n",
       "      <td>3556.0</td>\n",
       "    </tr>\n",
       "    <tr>\n",
       "      <th>275</th>\n",
       "      <td>1.0</td>\n",
       "      <td>율곡로3길 50</td>\n",
       "      <td>덕성여고 앞</td>\n",
       "      <td>2023-01-30 16:10:41</td>\n",
       "      <td>2023-01-30 16:20:41</td>\n",
       "      <td>3639.0</td>\n",
       "      <td>2325.0</td>\n",
       "    </tr>\n",
       "  </tbody>\n",
       "</table>\n",
       "<p>276 rows × 7 columns</p>\n",
       "</div>"
      ],
      "text/plain": [
       "     DEVICEID DEVICENAME DESCRIPTION            STARTTIME  \\\n",
       "0         2.0     계동길 69      계동교회 앞  2023-01-29 17:00:40   \n",
       "1         1.0   율곡로3길 50      덕성여고 앞  2023-01-29 17:00:40   \n",
       "2         2.0     계동길 69      계동교회 앞  2023-01-29 17:10:40   \n",
       "3         1.0   율곡로3길 50      덕성여고 앞  2023-01-29 17:10:40   \n",
       "4         2.0     계동길 69      계동교회 앞  2023-01-29 17:20:40   \n",
       "..        ...        ...         ...                  ...   \n",
       "271       1.0   율곡로3길 50      덕성여고 앞  2023-01-30 15:50:41   \n",
       "272       2.0     계동길 69      계동교회 앞  2023-01-30 16:00:41   \n",
       "273       1.0   율곡로3길 50      덕성여고 앞  2023-01-30 16:00:41   \n",
       "274       2.0     계동길 69      계동교회 앞  2023-01-30 16:10:41   \n",
       "275       1.0   율곡로3길 50      덕성여고 앞  2023-01-30 16:10:41   \n",
       "\n",
       "                 ENDTIME  INCOUNT  OUTCOUNT  \n",
       "0    2023-01-29 17:10:40   2600.0    3495.0  \n",
       "1    2023-01-29 17:10:40   2820.0    3291.0  \n",
       "2    2023-01-29 17:20:40   2640.0    3546.0  \n",
       "3    2023-01-29 17:20:40   2857.0    3429.0  \n",
       "4    2023-01-29 17:30:40   2683.0    3599.0  \n",
       "..                   ...      ...       ...  \n",
       "271  2023-01-30 16:00:41   3451.0    2067.0  \n",
       "272  2023-01-30 16:10:41   2272.0    3522.0  \n",
       "273  2023-01-30 16:10:41   3561.0    2162.0  \n",
       "274  2023-01-30 16:20:41   2299.0    3556.0  \n",
       "275  2023-01-30 16:20:41   3639.0    2325.0  \n",
       "\n",
       "[276 rows x 7 columns]"
      ]
     },
     "execution_count": 5,
     "metadata": {},
     "output_type": "execute_result"
    }
   ],
   "source": [
    "df"
   ]
  },
  {
   "cell_type": "markdown",
   "metadata": {},
   "source": [
    "## 유입(INCOUNT)이 많은 지역"
   ]
  },
  {
   "cell_type": "code",
   "execution_count": 6,
   "metadata": {},
   "outputs": [
    {
     "data": {
      "text/html": [
       "<div>\n",
       "<style scoped>\n",
       "    .dataframe tbody tr th:only-of-type {\n",
       "        vertical-align: middle;\n",
       "    }\n",
       "\n",
       "    .dataframe tbody tr th {\n",
       "        vertical-align: top;\n",
       "    }\n",
       "\n",
       "    .dataframe thead th {\n",
       "        text-align: right;\n",
       "    }\n",
       "</style>\n",
       "<table border=\"1\" class=\"dataframe\">\n",
       "  <thead>\n",
       "    <tr style=\"text-align: right;\">\n",
       "      <th></th>\n",
       "      <th>DEVICEID</th>\n",
       "      <th>DEVICENAME</th>\n",
       "      <th>DESCRIPTION</th>\n",
       "      <th>STARTTIME</th>\n",
       "      <th>ENDTIME</th>\n",
       "      <th>INCOUNT</th>\n",
       "      <th>OUTCOUNT</th>\n",
       "    </tr>\n",
       "  </thead>\n",
       "  <tbody>\n",
       "    <tr>\n",
       "      <th>0</th>\n",
       "      <td>2.0</td>\n",
       "      <td>계동길 69</td>\n",
       "      <td>계동교회 앞</td>\n",
       "      <td>2023-01-29 17:00:40</td>\n",
       "      <td>2023-01-29 17:10:40</td>\n",
       "      <td>2600.0</td>\n",
       "      <td>3495.0</td>\n",
       "    </tr>\n",
       "    <tr>\n",
       "      <th>1</th>\n",
       "      <td>1.0</td>\n",
       "      <td>율곡로3길 50</td>\n",
       "      <td>덕성여고 앞</td>\n",
       "      <td>2023-01-29 17:00:40</td>\n",
       "      <td>2023-01-29 17:10:40</td>\n",
       "      <td>2820.0</td>\n",
       "      <td>3291.0</td>\n",
       "    </tr>\n",
       "    <tr>\n",
       "      <th>2</th>\n",
       "      <td>2.0</td>\n",
       "      <td>계동길 69</td>\n",
       "      <td>계동교회 앞</td>\n",
       "      <td>2023-01-29 17:10:40</td>\n",
       "      <td>2023-01-29 17:20:40</td>\n",
       "      <td>2640.0</td>\n",
       "      <td>3546.0</td>\n",
       "    </tr>\n",
       "    <tr>\n",
       "      <th>3</th>\n",
       "      <td>1.0</td>\n",
       "      <td>율곡로3길 50</td>\n",
       "      <td>덕성여고 앞</td>\n",
       "      <td>2023-01-29 17:10:40</td>\n",
       "      <td>2023-01-29 17:20:40</td>\n",
       "      <td>2857.0</td>\n",
       "      <td>3429.0</td>\n",
       "    </tr>\n",
       "    <tr>\n",
       "      <th>4</th>\n",
       "      <td>2.0</td>\n",
       "      <td>계동길 69</td>\n",
       "      <td>계동교회 앞</td>\n",
       "      <td>2023-01-29 17:20:40</td>\n",
       "      <td>2023-01-29 17:30:40</td>\n",
       "      <td>2683.0</td>\n",
       "      <td>3599.0</td>\n",
       "    </tr>\n",
       "    <tr>\n",
       "      <th>...</th>\n",
       "      <td>...</td>\n",
       "      <td>...</td>\n",
       "      <td>...</td>\n",
       "      <td>...</td>\n",
       "      <td>...</td>\n",
       "      <td>...</td>\n",
       "      <td>...</td>\n",
       "    </tr>\n",
       "    <tr>\n",
       "      <th>995</th>\n",
       "      <td>4.0</td>\n",
       "      <td>북촌로5가길 38</td>\n",
       "      <td>삼청파출소 사잇길</td>\n",
       "      <td>2022-10-28 15:00:42</td>\n",
       "      <td>2022-10-28 15:10:42</td>\n",
       "      <td>2937.0</td>\n",
       "      <td>3324.0</td>\n",
       "    </tr>\n",
       "    <tr>\n",
       "      <th>996</th>\n",
       "      <td>2.0</td>\n",
       "      <td>계동길 69</td>\n",
       "      <td>계동교회 앞</td>\n",
       "      <td>2022-10-28 15:10:42</td>\n",
       "      <td>2022-10-28 15:20:42</td>\n",
       "      <td>16067.0</td>\n",
       "      <td>16449.0</td>\n",
       "    </tr>\n",
       "    <tr>\n",
       "      <th>997</th>\n",
       "      <td>4.0</td>\n",
       "      <td>북촌로5가길 38</td>\n",
       "      <td>삼청파출소 사잇길</td>\n",
       "      <td>2022-10-28 15:10:42</td>\n",
       "      <td>2022-10-28 15:20:42</td>\n",
       "      <td>3090.0</td>\n",
       "      <td>3443.0</td>\n",
       "    </tr>\n",
       "    <tr>\n",
       "      <th>998</th>\n",
       "      <td>2.0</td>\n",
       "      <td>계동길 69</td>\n",
       "      <td>계동교회 앞</td>\n",
       "      <td>2022-10-28 15:20:42</td>\n",
       "      <td>2022-10-28 15:30:42</td>\n",
       "      <td>16282.0</td>\n",
       "      <td>16699.0</td>\n",
       "    </tr>\n",
       "    <tr>\n",
       "      <th>999</th>\n",
       "      <td>4.0</td>\n",
       "      <td>북촌로5가길 38</td>\n",
       "      <td>삼청파출소 사잇길</td>\n",
       "      <td>2022-10-28 15:20:42</td>\n",
       "      <td>2022-10-28 15:30:42</td>\n",
       "      <td>3182.0</td>\n",
       "      <td>3556.0</td>\n",
       "    </tr>\n",
       "  </tbody>\n",
       "</table>\n",
       "<p>29276 rows × 7 columns</p>\n",
       "</div>"
      ],
      "text/plain": [
       "     DEVICEID DEVICENAME DESCRIPTION            STARTTIME  \\\n",
       "0         2.0     계동길 69      계동교회 앞  2023-01-29 17:00:40   \n",
       "1         1.0   율곡로3길 50      덕성여고 앞  2023-01-29 17:00:40   \n",
       "2         2.0     계동길 69      계동교회 앞  2023-01-29 17:10:40   \n",
       "3         1.0   율곡로3길 50      덕성여고 앞  2023-01-29 17:10:40   \n",
       "4         2.0     계동길 69      계동교회 앞  2023-01-29 17:20:40   \n",
       "..        ...        ...         ...                  ...   \n",
       "995       4.0  북촌로5가길 38   삼청파출소 사잇길  2022-10-28 15:00:42   \n",
       "996       2.0     계동길 69      계동교회 앞  2022-10-28 15:10:42   \n",
       "997       4.0  북촌로5가길 38   삼청파출소 사잇길  2022-10-28 15:10:42   \n",
       "998       2.0     계동길 69      계동교회 앞  2022-10-28 15:20:42   \n",
       "999       4.0  북촌로5가길 38   삼청파출소 사잇길  2022-10-28 15:20:42   \n",
       "\n",
       "                 ENDTIME  INCOUNT  OUTCOUNT  \n",
       "0    2023-01-29 17:10:40   2600.0    3495.0  \n",
       "1    2023-01-29 17:10:40   2820.0    3291.0  \n",
       "2    2023-01-29 17:20:40   2640.0    3546.0  \n",
       "3    2023-01-29 17:20:40   2857.0    3429.0  \n",
       "4    2023-01-29 17:30:40   2683.0    3599.0  \n",
       "..                   ...      ...       ...  \n",
       "995  2022-10-28 15:10:42   2937.0    3324.0  \n",
       "996  2022-10-28 15:20:42  16067.0   16449.0  \n",
       "997  2022-10-28 15:20:42   3090.0    3443.0  \n",
       "998  2022-10-28 15:30:42  16282.0   16699.0  \n",
       "999  2022-10-28 15:30:42   3182.0    3556.0  \n",
       "\n",
       "[29276 rows x 7 columns]"
      ]
     },
     "execution_count": 6,
     "metadata": {},
     "output_type": "execute_result"
    }
   ],
   "source": [
    "cctv_df = all_data\n",
    "cctv_df"
   ]
  },
  {
   "cell_type": "code",
   "execution_count": 7,
   "metadata": {},
   "outputs": [
    {
     "data": {
      "text/plain": [
       "계동교회 앞       13683\n",
       "덕성여고 앞       12020\n",
       "삼청파출소 사잇길     3573\n",
       "Name: DESCRIPTION, dtype: int64"
      ]
     },
     "execution_count": 7,
     "metadata": {},
     "output_type": "execute_result"
    }
   ],
   "source": [
    "cctv_df['DESCRIPTION'].value_counts()"
   ]
  },
  {
   "cell_type": "code",
   "execution_count": 8,
   "metadata": {},
   "outputs": [
    {
     "data": {
      "text/html": [
       "<div>\n",
       "<style scoped>\n",
       "    .dataframe tbody tr th:only-of-type {\n",
       "        vertical-align: middle;\n",
       "    }\n",
       "\n",
       "    .dataframe tbody tr th {\n",
       "        vertical-align: top;\n",
       "    }\n",
       "\n",
       "    .dataframe thead th {\n",
       "        text-align: right;\n",
       "    }\n",
       "</style>\n",
       "<table border=\"1\" class=\"dataframe\">\n",
       "  <thead>\n",
       "    <tr style=\"text-align: right;\">\n",
       "      <th></th>\n",
       "      <th>INCOUNT</th>\n",
       "      <th>OUTCOUNT</th>\n",
       "    </tr>\n",
       "    <tr>\n",
       "      <th>DESCRIPTION</th>\n",
       "      <th></th>\n",
       "      <th></th>\n",
       "    </tr>\n",
       "  </thead>\n",
       "  <tbody>\n",
       "    <tr>\n",
       "      <th>계동교회 앞</th>\n",
       "      <td>4821.513118</td>\n",
       "      <td>6006.208945</td>\n",
       "    </tr>\n",
       "    <tr>\n",
       "      <th>덕성여고 앞</th>\n",
       "      <td>2772.278536</td>\n",
       "      <td>2074.883195</td>\n",
       "    </tr>\n",
       "    <tr>\n",
       "      <th>삼청파출소 사잇길</th>\n",
       "      <td>1913.283515</td>\n",
       "      <td>2298.534845</td>\n",
       "    </tr>\n",
       "  </tbody>\n",
       "</table>\n",
       "</div>"
      ],
      "text/plain": [
       "                 INCOUNT     OUTCOUNT\n",
       "DESCRIPTION                          \n",
       "계동교회 앞       4821.513118  6006.208945\n",
       "덕성여고 앞       2772.278536  2074.883195\n",
       "삼청파출소 사잇길    1913.283515  2298.534845"
      ]
     },
     "execution_count": 8,
     "metadata": {},
     "output_type": "execute_result"
    }
   ],
   "source": [
    "max_incount = cctv_df.groupby('DESCRIPTION')['INCOUNT','OUTCOUNT'].mean()\n",
    "max_incount"
   ]
  },
  {
   "cell_type": "code",
   "execution_count": 9,
   "metadata": {
    "scrolled": true
   },
   "outputs": [
    {
     "data": {
      "image/png": "[encoded data removed]",
      "text/plain": [
       "<Figure size 432x288 with 1 Axes>"
      ]
     },
     "metadata": {
      "needs_background": "light"
     },
     "output_type": "display_data"
    }
   ],
   "source": [
    "# 한글 폰트 사용을 위해서 세팅(안하면 한글 꺠짐)\n",
    "from matplotlib import font_manager, rc\n",
    "font_path = \"C:/Windows/Fonts/NGULIM.TTF\"\n",
    "font = font_manager.FontProperties(fname=font_path).get_name()\n",
    "rc('font', family=font)\n",
    "bar_width = 0.4\n",
    "label = ['계동교회 앞','덕성여고 앞','삼청파출소 사잇길']\n",
    "index = np.arange(len(label))\n",
    "plt.bar(index, max_incount['INCOUNT'], color ='r', width = bar_width, label = 'INCOUNT')\n",
    "plt.bar(index + bar_width, max_incount['OUTCOUNT'], color = 'c',width = bar_width, label = 'OUTCOUNT')\n",
    "plt.legend()\n",
    "plt.xticks(index+0.2, label)\n",
    "plt.show()"
   ]
  },
  {
   "cell_type": "markdown",
   "metadata": {},
   "source": [
    "## 언제 유동인구가 많은가 (월)"
   ]
  },
  {
   "cell_type": "code",
   "execution_count": 10,
   "metadata": {},
   "outputs": [
    {
     "data": {
      "text/html": [
       "<div>\n",
       "<style scoped>\n",
       "    .dataframe tbody tr th:only-of-type {\n",
       "        vertical-align: middle;\n",
       "    }\n",
       "\n",
       "    .dataframe tbody tr th {\n",
       "        vertical-align: top;\n",
       "    }\n",
       "\n",
       "    .dataframe thead th {\n",
       "        text-align: right;\n",
       "    }\n",
       "</style>\n",
       "<table border=\"1\" class=\"dataframe\">\n",
       "  <thead>\n",
       "    <tr style=\"text-align: right;\">\n",
       "      <th></th>\n",
       "      <th>DEVICEID</th>\n",
       "      <th>DEVICENAME</th>\n",
       "      <th>DESCRIPTION</th>\n",
       "      <th>STARTTIME</th>\n",
       "      <th>ENDTIME</th>\n",
       "      <th>INCOUNT</th>\n",
       "      <th>OUTCOUNT</th>\n",
       "      <th>MONTH</th>\n",
       "      <th>WEEK</th>\n",
       "    </tr>\n",
       "  </thead>\n",
       "  <tbody>\n",
       "    <tr>\n",
       "      <th>0</th>\n",
       "      <td>2.0</td>\n",
       "      <td>계동길 69</td>\n",
       "      <td>계동교회 앞</td>\n",
       "      <td>2023-01-29 17:00:40</td>\n",
       "      <td>2023-01-29 17:10:40</td>\n",
       "      <td>2600.0</td>\n",
       "      <td>3495.0</td>\n",
       "      <td>1</td>\n",
       "      <td>Sunday</td>\n",
       "    </tr>\n",
       "    <tr>\n",
       "      <th>1</th>\n",
       "      <td>1.0</td>\n",
       "      <td>율곡로3길 50</td>\n",
       "      <td>덕성여고 앞</td>\n",
       "      <td>2023-01-29 17:00:40</td>\n",
       "      <td>2023-01-29 17:10:40</td>\n",
       "      <td>2820.0</td>\n",
       "      <td>3291.0</td>\n",
       "      <td>1</td>\n",
       "      <td>Sunday</td>\n",
       "    </tr>\n",
       "    <tr>\n",
       "      <th>2</th>\n",
       "      <td>2.0</td>\n",
       "      <td>계동길 69</td>\n",
       "      <td>계동교회 앞</td>\n",
       "      <td>2023-01-29 17:10:40</td>\n",
       "      <td>2023-01-29 17:20:40</td>\n",
       "      <td>2640.0</td>\n",
       "      <td>3546.0</td>\n",
       "      <td>1</td>\n",
       "      <td>Sunday</td>\n",
       "    </tr>\n",
       "    <tr>\n",
       "      <th>3</th>\n",
       "      <td>1.0</td>\n",
       "      <td>율곡로3길 50</td>\n",
       "      <td>덕성여고 앞</td>\n",
       "      <td>2023-01-29 17:10:40</td>\n",
       "      <td>2023-01-29 17:20:40</td>\n",
       "      <td>2857.0</td>\n",
       "      <td>3429.0</td>\n",
       "      <td>1</td>\n",
       "      <td>Sunday</td>\n",
       "    </tr>\n",
       "    <tr>\n",
       "      <th>4</th>\n",
       "      <td>2.0</td>\n",
       "      <td>계동길 69</td>\n",
       "      <td>계동교회 앞</td>\n",
       "      <td>2023-01-29 17:20:40</td>\n",
       "      <td>2023-01-29 17:30:40</td>\n",
       "      <td>2683.0</td>\n",
       "      <td>3599.0</td>\n",
       "      <td>1</td>\n",
       "      <td>Sunday</td>\n",
       "    </tr>\n",
       "    <tr>\n",
       "      <th>...</th>\n",
       "      <td>...</td>\n",
       "      <td>...</td>\n",
       "      <td>...</td>\n",
       "      <td>...</td>\n",
       "      <td>...</td>\n",
       "      <td>...</td>\n",
       "      <td>...</td>\n",
       "      <td>...</td>\n",
       "      <td>...</td>\n",
       "    </tr>\n",
       "    <tr>\n",
       "      <th>995</th>\n",
       "      <td>4.0</td>\n",
       "      <td>북촌로5가길 38</td>\n",
       "      <td>삼청파출소 사잇길</td>\n",
       "      <td>2022-10-28 15:00:42</td>\n",
       "      <td>2022-10-28 15:10:42</td>\n",
       "      <td>2937.0</td>\n",
       "      <td>3324.0</td>\n",
       "      <td>10</td>\n",
       "      <td>Friday</td>\n",
       "    </tr>\n",
       "    <tr>\n",
       "      <th>996</th>\n",
       "      <td>2.0</td>\n",
       "      <td>계동길 69</td>\n",
       "      <td>계동교회 앞</td>\n",
       "      <td>2022-10-28 15:10:42</td>\n",
       "      <td>2022-10-28 15:20:42</td>\n",
       "      <td>16067.0</td>\n",
       "      <td>16449.0</td>\n",
       "      <td>10</td>\n",
       "      <td>Friday</td>\n",
       "    </tr>\n",
       "    <tr>\n",
       "      <th>997</th>\n",
       "      <td>4.0</td>\n",
       "      <td>북촌로5가길 38</td>\n",
       "      <td>삼청파출소 사잇길</td>\n",
       "      <td>2022-10-28 15:10:42</td>\n",
       "      <td>2022-10-28 15:20:42</td>\n",
       "      <td>3090.0</td>\n",
       "      <td>3443.0</td>\n",
       "      <td>10</td>\n",
       "      <td>Friday</td>\n",
       "    </tr>\n",
       "    <tr>\n",
       "      <th>998</th>\n",
       "      <td>2.0</td>\n",
       "      <td>계동길 69</td>\n",
       "      <td>계동교회 앞</td>\n",
       "      <td>2022-10-28 15:20:42</td>\n",
       "      <td>2022-10-28 15:30:42</td>\n",
       "      <td>16282.0</td>\n",
       "      <td>16699.0</td>\n",
       "      <td>10</td>\n",
       "      <td>Friday</td>\n",
       "    </tr>\n",
       "    <tr>\n",
       "      <th>999</th>\n",
       "      <td>4.0</td>\n",
       "      <td>북촌로5가길 38</td>\n",
       "      <td>삼청파출소 사잇길</td>\n",
       "      <td>2022-10-28 15:20:42</td>\n",
       "      <td>2022-10-28 15:30:42</td>\n",
       "      <td>3182.0</td>\n",
       "      <td>3556.0</td>\n",
       "      <td>10</td>\n",
       "      <td>Friday</td>\n",
       "    </tr>\n",
       "  </tbody>\n",
       "</table>\n",
       "<p>29276 rows × 9 columns</p>\n",
       "</div>"
      ],
      "text/plain": [
       "     DEVICEID DEVICENAME DESCRIPTION            STARTTIME             ENDTIME  \\\n",
       "0         2.0     계동길 69      계동교회 앞  2023-01-29 17:00:40 2023-01-29 17:10:40   \n",
       "1         1.0   율곡로3길 50      덕성여고 앞  2023-01-29 17:00:40 2023-01-29 17:10:40   \n",
       "2         2.0     계동길 69      계동교회 앞  2023-01-29 17:10:40 2023-01-29 17:20:40   \n",
       "3         1.0   율곡로3길 50      덕성여고 앞  2023-01-29 17:10:40 2023-01-29 17:20:40   \n",
       "4         2.0     계동길 69      계동교회 앞  2023-01-29 17:20:40 2023-01-29 17:30:40   \n",
       "..        ...        ...         ...                  ...                 ...   \n",
       "995       4.0  북촌로5가길 38   삼청파출소 사잇길  2022-10-28 15:00:42 2022-10-28 15:10:42   \n",
       "996       2.0     계동길 69      계동교회 앞  2022-10-28 15:10:42 2022-10-28 15:20:42   \n",
       "997       4.0  북촌로5가길 38   삼청파출소 사잇길  2022-10-28 15:10:42 2022-10-28 15:20:42   \n",
       "998       2.0     계동길 69      계동교회 앞  2022-10-28 15:20:42 2022-10-28 15:30:42   \n",
       "999       4.0  북촌로5가길 38   삼청파출소 사잇길  2022-10-28 15:20:42 2022-10-28 15:30:42   \n",
       "\n",
       "     INCOUNT  OUTCOUNT  MONTH    WEEK  \n",
       "0     2600.0    3495.0      1  Sunday  \n",
       "1     2820.0    3291.0      1  Sunday  \n",
       "2     2640.0    3546.0      1  Sunday  \n",
       "3     2857.0    3429.0      1  Sunday  \n",
       "4     2683.0    3599.0      1  Sunday  \n",
       "..       ...       ...    ...     ...  \n",
       "995   2937.0    3324.0     10  Friday  \n",
       "996  16067.0   16449.0     10  Friday  \n",
       "997   3090.0    3443.0     10  Friday  \n",
       "998  16282.0   16699.0     10  Friday  \n",
       "999   3182.0    3556.0     10  Friday  \n",
       "\n",
       "[29276 rows x 9 columns]"
      ]
     },
     "execution_count": 10,
     "metadata": {},
     "output_type": "execute_result"
    }
   ],
   "source": [
    "cctv_df = all_data\n",
    "cctv_df['ENDTIME'] = pd.to_datetime(cctv_df['ENDTIME'])\n",
    "\n",
    "cctv_df['MONTH'] = cctv_df['ENDTIME'].dt.month\n",
    "cctv_df['WEEK'] = cctv_df['ENDTIME'].dt.day_name()\n",
    "cctv_df"
   ]
  },
  {
   "cell_type": "code",
   "execution_count": 11,
   "metadata": {},
   "outputs": [
    {
     "data": {
      "text/html": [
       "<div>\n",
       "<style scoped>\n",
       "    .dataframe tbody tr th:only-of-type {\n",
       "        vertical-align: middle;\n",
       "    }\n",
       "\n",
       "    .dataframe tbody tr th {\n",
       "        vertical-align: top;\n",
       "    }\n",
       "\n",
       "    .dataframe thead th {\n",
       "        text-align: right;\n",
       "    }\n",
       "</style>\n",
       "<table border=\"1\" class=\"dataframe\">\n",
       "  <thead>\n",
       "    <tr style=\"text-align: right;\">\n",
       "      <th></th>\n",
       "      <th>INCOUNT</th>\n",
       "      <th>OUTCOUNT</th>\n",
       "    </tr>\n",
       "    <tr>\n",
       "      <th>MONTH</th>\n",
       "      <th></th>\n",
       "      <th></th>\n",
       "    </tr>\n",
       "  </thead>\n",
       "  <tbody>\n",
       "    <tr>\n",
       "      <th>1</th>\n",
       "      <td>2332.755744</td>\n",
       "      <td>2542.924708</td>\n",
       "    </tr>\n",
       "    <tr>\n",
       "      <th>10</th>\n",
       "      <td>6206.330769</td>\n",
       "      <td>6714.802797</td>\n",
       "    </tr>\n",
       "    <tr>\n",
       "      <th>11</th>\n",
       "      <td>5182.404916</td>\n",
       "      <td>5709.187119</td>\n",
       "    </tr>\n",
       "    <tr>\n",
       "      <th>12</th>\n",
       "      <td>2602.283764</td>\n",
       "      <td>2733.625183</td>\n",
       "    </tr>\n",
       "  </tbody>\n",
       "</table>\n",
       "</div>"
      ],
      "text/plain": [
       "           INCOUNT     OUTCOUNT\n",
       "MONTH                          \n",
       "1      2332.755744  2542.924708\n",
       "10     6206.330769  6714.802797\n",
       "11     5182.404916  5709.187119\n",
       "12     2602.283764  2733.625183"
      ]
     },
     "execution_count": 11,
     "metadata": {},
     "output_type": "execute_result"
    }
   ],
   "source": [
    "count_MaxMin = cctv_df.groupby(['MONTH'])['INCOUNT', 'OUTCOUNT'].mean()\n",
    "count_MaxMin"
   ]
  },
  {
   "cell_type": "code",
   "execution_count": 12,
   "metadata": {
    "scrolled": true
   },
   "outputs": [
    {
     "data": {
      "text/plain": [
       "<AxesSubplot:xlabel='MONTH', ylabel='INCOUNT'>"
      ]
     },
     "execution_count": 12,
     "metadata": {},
     "output_type": "execute_result"
    },
    {
     "data": {
      "image/png": "[encoded data removed]",
      "text/plain": [
       "<Figure size 432x288 with 1 Axes>"
      ]
     },
     "metadata": {
      "needs_background": "light"
     },
     "output_type": "display_data"
    }
   ],
   "source": [
    "sns.barplot(data = cctv_df, x = 'MONTH', y = 'INCOUNT')"
   ]
  },
  {
   "cell_type": "code",
   "execution_count": 14,
   "metadata": {},
   "outputs": [
    {
     "data": {
      "text/plain": [
       "<AxesSubplot:xlabel='MONTH', ylabel='OUTCOUNT'>"
      ]
     },
     "execution_count": 14,
     "metadata": {},
     "output_type": "execute_result"
    },
    {
     "data": {
      "image/png": "[encoded data removed]",
      "text/plain": [
       "<Figure size 432x288 with 1 Axes>"
      ]
     },
     "metadata": {
      "needs_background": "light"
     },
     "output_type": "display_data"
    }
   ],
   "source": [
    "sns.barplot(data = cctv_df, x = 'MONTH', y = 'OUTCOUNT')"
   ]
  },
  {
   "cell_type": "code",
   "execution_count": 15,
   "metadata": {
    "scrolled": true
   },
   "outputs": [
    {
     "data": {
      "text/plain": [
       "<AxesSubplot:xlabel='MONTH', ylabel='INCOUNT'>"
      ]
     },
     "execution_count": 15,
     "metadata": {},
     "output_type": "execute_result"
    },
    {
     "data": {
      "image/png": "[encoded data removed]",
      "text/plain": [
       "<Figure size 432x288 with 1 Axes>"
      ]
     },
     "metadata": {
      "needs_background": "light"
     },
     "output_type": "display_data"
    }
   ],
   "source": [
    "sns.barplot(data = cctv_df, x = 'MONTH', y = 'INCOUNT', hue = 'DESCRIPTION')"
   ]
  },
  {
   "cell_type": "code",
   "execution_count": 16,
   "metadata": {},
   "outputs": [
    {
     "data": {
      "text/plain": [
       "<AxesSubplot:xlabel='MONTH', ylabel='OUTCOUNT'>"
      ]
     },
     "execution_count": 16,
     "metadata": {},
     "output_type": "execute_result"
    },
    {
     "data": {
      "image/png": "[encoded data removed]",
      "text/plain": [
       "<Figure size 432x288 with 1 Axes>"
      ]
     },
     "metadata": {
      "needs_background": "light"
     },
     "output_type": "display_data"
    }
   ],
   "source": [
    "sns.barplot(data = cctv_df, x = 'MONTH', y = 'OUTCOUNT', hue = 'DESCRIPTION')"
   ]
  },
  {
   "cell_type": "code",
   "execution_count": 18,
   "metadata": {},
   "outputs": [
    {
     "data": {
      "image/png": "[encoded data removed]",
      "text/plain": [
       "<Figure size 432x288 with 1 Axes>"
      ]
     },
     "metadata": {
      "needs_background": "light"
     },
     "output_type": "display_data"
    }
   ],
   "source": [
    "bar_width = 0.4\n",
    "label = ['1월','10월','11월','12월']\n",
    "index = np.arange(len(label))\n",
    "plt.bar(index, count_MaxMin['INCOUNT'], color ='y', width = bar_width, label = 'INCOUNT')\n",
    "plt.bar(index + bar_width, count_MaxMin['OUTCOUNT'], color = 'g',width = bar_width, label = 'OUTCOUNT')\n",
    "plt.xticks(index+0.2, label)\n",
    "plt.legend()\n",
    "plt.show()"
   ]
  },
  {
   "cell_type": "markdown",
   "metadata": {},
   "source": [
    "## 언제 유동인구가 많은가 (몇 시)"
   ]
  },
  {
   "cell_type": "code",
   "execution_count": 21,
   "metadata": {},
   "outputs": [],
   "source": [
    "when = mon = df['RECORD'].str.split(\" \", expand = True)\n",
    "df['WHEN'] = when[1]\n",
    "hour = df['WHEN'].str.split(':', expand = True)\n",
    "df['WHEN'] = hour[0]\n",
    "#WHEN 변수 만들기\n",
    "df.sort_values(by = 'WHEN', inplace = True)"
   ]
  },
  {
   "cell_type": "code",
   "execution_count": 22,
   "metadata": {},
   "outputs": [
    {
     "data": {
      "text/plain": [
       "<AxesSubplot:xlabel='WHEN', ylabel='INCOUNT'>"
      ]
     },
     "execution_count": 22,
     "metadata": {},
     "output_type": "execute_result"
    },
    {
     "data": {
      "image/png": "[encoded data removed]",
      "text/plain": [
       "<Figure size 432x288 with 1 Axes>"
      ]
     },
     "metadata": {
      "needs_background": "light"
     },
     "output_type": "display_data"
    }
   ],
   "source": [
    "sns.lineplot(data = df, x = 'WHEN', y = 'INCOUNT', hue = 'DESCRIPTION')"
   ]
  },
  {
   "cell_type": "code",
   "execution_count": 23,
   "metadata": {},
   "outputs": [
    {
     "data": {
      "text/plain": [
       "<AxesSubplot:xlabel='WHEN', ylabel='OUTCOUNT'>"
      ]
     },
     "execution_count": 23,
     "metadata": {},
     "output_type": "execute_result"
    },
    {
     "data": {
      "image/png": "[encoded data removed]",
      "text/plain": [
       "<Figure size 432x288 with 1 Axes>"
      ]
     },
     "metadata": {
      "needs_background": "light"
     },
     "output_type": "display_data"
    }
   ],
   "source": [
    "sns.lineplot(data = df, x = 'WHEN', y = 'OUTCOUNT', hue = 'DESCRIPTION')"
   ]
  },
  {
   "cell_type": "markdown",
   "metadata": {},
   "source": [
    "## 장소별 인구 최댓값"
   ]
  },
  {
   "cell_type": "code",
   "execution_count": 24,
   "metadata": {
    "scrolled": true
   },
   "outputs": [
    {
     "data": {
      "text/html": [
       "<div>\n",
       "<style scoped>\n",
       "    .dataframe tbody tr th:only-of-type {\n",
       "        vertical-align: middle;\n",
       "    }\n",
       "\n",
       "    .dataframe tbody tr th {\n",
       "        vertical-align: top;\n",
       "    }\n",
       "\n",
       "    .dataframe thead th {\n",
       "        text-align: right;\n",
       "    }\n",
       "</style>\n",
       "<table border=\"1\" class=\"dataframe\">\n",
       "  <thead>\n",
       "    <tr style=\"text-align: right;\">\n",
       "      <th></th>\n",
       "      <th>DEVICEID</th>\n",
       "      <th>DEVICENAME</th>\n",
       "      <th>DESCRIPTION</th>\n",
       "      <th>STARTTIME</th>\n",
       "      <th>ENDTIME</th>\n",
       "      <th>INCOUNT</th>\n",
       "      <th>OUTCOUNT</th>\n",
       "      <th>MONTH</th>\n",
       "      <th>WEEK</th>\n",
       "      <th>TOTAL</th>\n",
       "    </tr>\n",
       "  </thead>\n",
       "  <tbody>\n",
       "    <tr>\n",
       "      <th>0</th>\n",
       "      <td>2.0</td>\n",
       "      <td>계동길 69</td>\n",
       "      <td>계동교회 앞</td>\n",
       "      <td>2023-01-29 17:00:40</td>\n",
       "      <td>2023-01-29 17:10:40</td>\n",
       "      <td>2600.0</td>\n",
       "      <td>3495.0</td>\n",
       "      <td>1</td>\n",
       "      <td>Sunday</td>\n",
       "      <td>6095.0</td>\n",
       "    </tr>\n",
       "    <tr>\n",
       "      <th>1</th>\n",
       "      <td>1.0</td>\n",
       "      <td>율곡로3길 50</td>\n",
       "      <td>덕성여고 앞</td>\n",
       "      <td>2023-01-29 17:00:40</td>\n",
       "      <td>2023-01-29 17:10:40</td>\n",
       "      <td>2820.0</td>\n",
       "      <td>3291.0</td>\n",
       "      <td>1</td>\n",
       "      <td>Sunday</td>\n",
       "      <td>6111.0</td>\n",
       "    </tr>\n",
       "    <tr>\n",
       "      <th>2</th>\n",
       "      <td>2.0</td>\n",
       "      <td>계동길 69</td>\n",
       "      <td>계동교회 앞</td>\n",
       "      <td>2023-01-29 17:10:40</td>\n",
       "      <td>2023-01-29 17:20:40</td>\n",
       "      <td>2640.0</td>\n",
       "      <td>3546.0</td>\n",
       "      <td>1</td>\n",
       "      <td>Sunday</td>\n",
       "      <td>6186.0</td>\n",
       "    </tr>\n",
       "    <tr>\n",
       "      <th>3</th>\n",
       "      <td>1.0</td>\n",
       "      <td>율곡로3길 50</td>\n",
       "      <td>덕성여고 앞</td>\n",
       "      <td>2023-01-29 17:10:40</td>\n",
       "      <td>2023-01-29 17:20:40</td>\n",
       "      <td>2857.0</td>\n",
       "      <td>3429.0</td>\n",
       "      <td>1</td>\n",
       "      <td>Sunday</td>\n",
       "      <td>6286.0</td>\n",
       "    </tr>\n",
       "    <tr>\n",
       "      <th>4</th>\n",
       "      <td>2.0</td>\n",
       "      <td>계동길 69</td>\n",
       "      <td>계동교회 앞</td>\n",
       "      <td>2023-01-29 17:20:40</td>\n",
       "      <td>2023-01-29 17:30:40</td>\n",
       "      <td>2683.0</td>\n",
       "      <td>3599.0</td>\n",
       "      <td>1</td>\n",
       "      <td>Sunday</td>\n",
       "      <td>6282.0</td>\n",
       "    </tr>\n",
       "    <tr>\n",
       "      <th>...</th>\n",
       "      <td>...</td>\n",
       "      <td>...</td>\n",
       "      <td>...</td>\n",
       "      <td>...</td>\n",
       "      <td>...</td>\n",
       "      <td>...</td>\n",
       "      <td>...</td>\n",
       "      <td>...</td>\n",
       "      <td>...</td>\n",
       "      <td>...</td>\n",
       "    </tr>\n",
       "    <tr>\n",
       "      <th>995</th>\n",
       "      <td>4.0</td>\n",
       "      <td>북촌로5가길 38</td>\n",
       "      <td>삼청파출소 사잇길</td>\n",
       "      <td>2022-10-28 15:00:42</td>\n",
       "      <td>2022-10-28 15:10:42</td>\n",
       "      <td>2937.0</td>\n",
       "      <td>3324.0</td>\n",
       "      <td>10</td>\n",
       "      <td>Friday</td>\n",
       "      <td>6261.0</td>\n",
       "    </tr>\n",
       "    <tr>\n",
       "      <th>996</th>\n",
       "      <td>2.0</td>\n",
       "      <td>계동길 69</td>\n",
       "      <td>계동교회 앞</td>\n",
       "      <td>2022-10-28 15:10:42</td>\n",
       "      <td>2022-10-28 15:20:42</td>\n",
       "      <td>16067.0</td>\n",
       "      <td>16449.0</td>\n",
       "      <td>10</td>\n",
       "      <td>Friday</td>\n",
       "      <td>32516.0</td>\n",
       "    </tr>\n",
       "    <tr>\n",
       "      <th>997</th>\n",
       "      <td>4.0</td>\n",
       "      <td>북촌로5가길 38</td>\n",
       "      <td>삼청파출소 사잇길</td>\n",
       "      <td>2022-10-28 15:10:42</td>\n",
       "      <td>2022-10-28 15:20:42</td>\n",
       "      <td>3090.0</td>\n",
       "      <td>3443.0</td>\n",
       "      <td>10</td>\n",
       "      <td>Friday</td>\n",
       "      <td>6533.0</td>\n",
       "    </tr>\n",
       "    <tr>\n",
       "      <th>998</th>\n",
       "      <td>2.0</td>\n",
       "      <td>계동길 69</td>\n",
       "      <td>계동교회 앞</td>\n",
       "      <td>2022-10-28 15:20:42</td>\n",
       "      <td>2022-10-28 15:30:42</td>\n",
       "      <td>16282.0</td>\n",
       "      <td>16699.0</td>\n",
       "      <td>10</td>\n",
       "      <td>Friday</td>\n",
       "      <td>32981.0</td>\n",
       "    </tr>\n",
       "    <tr>\n",
       "      <th>999</th>\n",
       "      <td>4.0</td>\n",
       "      <td>북촌로5가길 38</td>\n",
       "      <td>삼청파출소 사잇길</td>\n",
       "      <td>2022-10-28 15:20:42</td>\n",
       "      <td>2022-10-28 15:30:42</td>\n",
       "      <td>3182.0</td>\n",
       "      <td>3556.0</td>\n",
       "      <td>10</td>\n",
       "      <td>Friday</td>\n",
       "      <td>6738.0</td>\n",
       "    </tr>\n",
       "  </tbody>\n",
       "</table>\n",
       "<p>29276 rows × 10 columns</p>\n",
       "</div>"
      ],
      "text/plain": [
       "     DEVICEID DEVICENAME DESCRIPTION            STARTTIME             ENDTIME  \\\n",
       "0         2.0     계동길 69      계동교회 앞  2023-01-29 17:00:40 2023-01-29 17:10:40   \n",
       "1         1.0   율곡로3길 50      덕성여고 앞  2023-01-29 17:00:40 2023-01-29 17:10:40   \n",
       "2         2.0     계동길 69      계동교회 앞  2023-01-29 17:10:40 2023-01-29 17:20:40   \n",
       "3         1.0   율곡로3길 50      덕성여고 앞  2023-01-29 17:10:40 2023-01-29 17:20:40   \n",
       "4         2.0     계동길 69      계동교회 앞  2023-01-29 17:20:40 2023-01-29 17:30:40   \n",
       "..        ...        ...         ...                  ...                 ...   \n",
       "995       4.0  북촌로5가길 38   삼청파출소 사잇길  2022-10-28 15:00:42 2022-10-28 15:10:42   \n",
       "996       2.0     계동길 69      계동교회 앞  2022-10-28 15:10:42 2022-10-28 15:20:42   \n",
       "997       4.0  북촌로5가길 38   삼청파출소 사잇길  2022-10-28 15:10:42 2022-10-28 15:20:42   \n",
       "998       2.0     계동길 69      계동교회 앞  2022-10-28 15:20:42 2022-10-28 15:30:42   \n",
       "999       4.0  북촌로5가길 38   삼청파출소 사잇길  2022-10-28 15:20:42 2022-10-28 15:30:42   \n",
       "\n",
       "     INCOUNT  OUTCOUNT  MONTH    WEEK    TOTAL  \n",
       "0     2600.0    3495.0      1  Sunday   6095.0  \n",
       "1     2820.0    3291.0      1  Sunday   6111.0  \n",
       "2     2640.0    3546.0      1  Sunday   6186.0  \n",
       "3     2857.0    3429.0      1  Sunday   6286.0  \n",
       "4     2683.0    3599.0      1  Sunday   6282.0  \n",
       "..       ...       ...    ...     ...      ...  \n",
       "995   2937.0    3324.0     10  Friday   6261.0  \n",
       "996  16067.0   16449.0     10  Friday  32516.0  \n",
       "997   3090.0    3443.0     10  Friday   6533.0  \n",
       "998  16282.0   16699.0     10  Friday  32981.0  \n",
       "999   3182.0    3556.0     10  Friday   6738.0  \n",
       "\n",
       "[29276 rows x 10 columns]"
      ]
     },
     "execution_count": 24,
     "metadata": {},
     "output_type": "execute_result"
    }
   ],
   "source": [
    "cctv_df['TOTAL'] = cctv_df['INCOUNT'] + cctv_df['OUTCOUNT']\n",
    "cctv_df"
   ]
  },
  {
   "cell_type": "code",
   "execution_count": 25,
   "metadata": {
    "scrolled": true
   },
   "outputs": [
    {
     "data": {
      "text/plain": [
       "DESCRIPTION\n",
       "계동교회 앞       54730.0\n",
       "덕성여고 앞       24402.0\n",
       "삼청파출소 사잇길    21006.0\n",
       "Name: TOTAL, dtype: float64"
      ]
     },
     "execution_count": 25,
     "metadata": {},
     "output_type": "execute_result"
    }
   ],
   "source": [
    "count_totalMax = cctv_df.groupby(['DESCRIPTION'])['TOTAL'].max()\n",
    "count_totalMax"
   ]
  },
  {
   "cell_type": "code",
   "execution_count": 26,
   "metadata": {
    "scrolled": true
   },
   "outputs": [
    {
     "data": {
      "image/png": "[encoded data removed]",
      "text/plain": [
       "<Figure size 432x288 with 1 Axes>"
      ]
     },
     "metadata": {
      "needs_background": "light"
     },
     "output_type": "display_data"
    }
   ],
   "source": [
    "label = ['계동교회 앞','덕성여고 앞','삼청파출소 사잇길']\n",
    "plt.bar(label,count_totalMax)\n",
    "plt.show()"
   ]
  },
  {
   "cell_type": "markdown",
   "metadata": {},
   "source": [
    "## 월별 최대 인구 수"
   ]
  },
  {
   "cell_type": "code",
   "execution_count": 27,
   "metadata": {
    "scrolled": true
   },
   "outputs": [
    {
     "data": {
      "text/plain": [
       "MONTH\n",
       "1     25617.0\n",
       "10    46848.0\n",
       "11    54730.0\n",
       "12    26224.0\n",
       "Name: TOTAL, dtype: float64"
      ]
     },
     "execution_count": 27,
     "metadata": {},
     "output_type": "execute_result"
    }
   ],
   "source": [
    "Mcount_totalMax = cctv_df.groupby(['MONTH'])['TOTAL'].max()\n",
    "Mcount_totalMax"
   ]
  },
  {
   "cell_type": "code",
   "execution_count": 28,
   "metadata": {},
   "outputs": [
    {
     "data": {
      "image/png": "[encoded data removed]",
      "text/plain": [
       "<Figure size 432x288 with 1 Axes>"
      ]
     },
     "metadata": {
      "needs_background": "light"
     },
     "output_type": "display_data"
    }
   ],
   "source": [
    "label = ['1월','10월','11월','12월']\n",
    "plt.bar(label,Mcount_totalMax)\n",
    "plt.show()"
   ]
  },
  {
   "cell_type": "markdown",
   "metadata": {},
   "source": [
    "## 월별 평균 인구수"
   ]
  },
  {
   "cell_type": "code",
   "execution_count": 29,
   "metadata": {},
   "outputs": [
    {
     "data": {
      "image/png": "[encoded data removed]",
      "text/plain": [
       "<Figure size 432x288 with 1 Axes>"
      ]
     },
     "metadata": {
      "needs_background": "light"
     },
     "output_type": "display_data"
    }
   ],
   "source": [
    "Mcount_totalmean = cctv_df.groupby(['MONTH'])['TOTAL'].mean()\n",
    "Mcount_totalmean\n",
    "label = ['1월','10월','11월','12월']\n",
    "plt.bar(label,Mcount_totalmean)\n",
    "plt.show()"
   ]
  },
  {
   "cell_type": "code",
   "execution_count": 30,
   "metadata": {},
   "outputs": [
    {
     "data": {
      "image/png": "[encoded data removed]",
      "text/plain": [
       "<Figure size 432x288 with 1 Axes>"
      ]
     },
     "metadata": {
      "needs_background": "light"
     },
     "output_type": "display_data"
    }
   ],
   "source": [
    "Mcount_incountmean = cctv_df.groupby(['MONTH'])['INCOUNT'].mean()\n",
    "Mcount_incountmean\n",
    "label = ['1월','10월','11월','12월']\n",
    "plt.bar(label,Mcount_incountmean)\n",
    "plt.show()"
   ]
  },
  {
   "cell_type": "markdown",
   "metadata": {},
   "source": [
    "## 시간대별 분포"
   ]
  },
  {
   "cell_type": "code",
   "execution_count": 31,
   "metadata": {},
   "outputs": [
    {
     "data": {
      "text/html": [
       "<div>\n",
       "<style scoped>\n",
       "    .dataframe tbody tr th:only-of-type {\n",
       "        vertical-align: middle;\n",
       "    }\n",
       "\n",
       "    .dataframe tbody tr th {\n",
       "        vertical-align: top;\n",
       "    }\n",
       "\n",
       "    .dataframe thead th {\n",
       "        text-align: right;\n",
       "    }\n",
       "</style>\n",
       "<table border=\"1\" class=\"dataframe\">\n",
       "  <thead>\n",
       "    <tr style=\"text-align: right;\">\n",
       "      <th></th>\n",
       "      <th>DEVICEID</th>\n",
       "      <th>DEVICENAME</th>\n",
       "      <th>DESCRIPTION</th>\n",
       "      <th>STARTTIME</th>\n",
       "      <th>ENDTIME</th>\n",
       "      <th>INCOUNT</th>\n",
       "      <th>OUTCOUNT</th>\n",
       "      <th>MONTH</th>\n",
       "      <th>WEEK</th>\n",
       "      <th>TOTAL</th>\n",
       "      <th>HOUR</th>\n",
       "    </tr>\n",
       "  </thead>\n",
       "  <tbody>\n",
       "    <tr>\n",
       "      <th>0</th>\n",
       "      <td>2.0</td>\n",
       "      <td>계동길 69</td>\n",
       "      <td>계동교회 앞</td>\n",
       "      <td>2023-01-29 17:00:40</td>\n",
       "      <td>2023-01-29 17:10:40</td>\n",
       "      <td>2600.0</td>\n",
       "      <td>3495.0</td>\n",
       "      <td>1</td>\n",
       "      <td>Sunday</td>\n",
       "      <td>6095.0</td>\n",
       "      <td>17</td>\n",
       "    </tr>\n",
       "    <tr>\n",
       "      <th>1</th>\n",
       "      <td>1.0</td>\n",
       "      <td>율곡로3길 50</td>\n",
       "      <td>덕성여고 앞</td>\n",
       "      <td>2023-01-29 17:00:40</td>\n",
       "      <td>2023-01-29 17:10:40</td>\n",
       "      <td>2820.0</td>\n",
       "      <td>3291.0</td>\n",
       "      <td>1</td>\n",
       "      <td>Sunday</td>\n",
       "      <td>6111.0</td>\n",
       "      <td>17</td>\n",
       "    </tr>\n",
       "    <tr>\n",
       "      <th>2</th>\n",
       "      <td>2.0</td>\n",
       "      <td>계동길 69</td>\n",
       "      <td>계동교회 앞</td>\n",
       "      <td>2023-01-29 17:10:40</td>\n",
       "      <td>2023-01-29 17:20:40</td>\n",
       "      <td>2640.0</td>\n",
       "      <td>3546.0</td>\n",
       "      <td>1</td>\n",
       "      <td>Sunday</td>\n",
       "      <td>6186.0</td>\n",
       "      <td>17</td>\n",
       "    </tr>\n",
       "    <tr>\n",
       "      <th>3</th>\n",
       "      <td>1.0</td>\n",
       "      <td>율곡로3길 50</td>\n",
       "      <td>덕성여고 앞</td>\n",
       "      <td>2023-01-29 17:10:40</td>\n",
       "      <td>2023-01-29 17:20:40</td>\n",
       "      <td>2857.0</td>\n",
       "      <td>3429.0</td>\n",
       "      <td>1</td>\n",
       "      <td>Sunday</td>\n",
       "      <td>6286.0</td>\n",
       "      <td>17</td>\n",
       "    </tr>\n",
       "    <tr>\n",
       "      <th>4</th>\n",
       "      <td>2.0</td>\n",
       "      <td>계동길 69</td>\n",
       "      <td>계동교회 앞</td>\n",
       "      <td>2023-01-29 17:20:40</td>\n",
       "      <td>2023-01-29 17:30:40</td>\n",
       "      <td>2683.0</td>\n",
       "      <td>3599.0</td>\n",
       "      <td>1</td>\n",
       "      <td>Sunday</td>\n",
       "      <td>6282.0</td>\n",
       "      <td>17</td>\n",
       "    </tr>\n",
       "    <tr>\n",
       "      <th>...</th>\n",
       "      <td>...</td>\n",
       "      <td>...</td>\n",
       "      <td>...</td>\n",
       "      <td>...</td>\n",
       "      <td>...</td>\n",
       "      <td>...</td>\n",
       "      <td>...</td>\n",
       "      <td>...</td>\n",
       "      <td>...</td>\n",
       "      <td>...</td>\n",
       "      <td>...</td>\n",
       "    </tr>\n",
       "    <tr>\n",
       "      <th>995</th>\n",
       "      <td>4.0</td>\n",
       "      <td>북촌로5가길 38</td>\n",
       "      <td>삼청파출소 사잇길</td>\n",
       "      <td>2022-10-28 15:00:42</td>\n",
       "      <td>2022-10-28 15:10:42</td>\n",
       "      <td>2937.0</td>\n",
       "      <td>3324.0</td>\n",
       "      <td>10</td>\n",
       "      <td>Friday</td>\n",
       "      <td>6261.0</td>\n",
       "      <td>15</td>\n",
       "    </tr>\n",
       "    <tr>\n",
       "      <th>996</th>\n",
       "      <td>2.0</td>\n",
       "      <td>계동길 69</td>\n",
       "      <td>계동교회 앞</td>\n",
       "      <td>2022-10-28 15:10:42</td>\n",
       "      <td>2022-10-28 15:20:42</td>\n",
       "      <td>16067.0</td>\n",
       "      <td>16449.0</td>\n",
       "      <td>10</td>\n",
       "      <td>Friday</td>\n",
       "      <td>32516.0</td>\n",
       "      <td>15</td>\n",
       "    </tr>\n",
       "    <tr>\n",
       "      <th>997</th>\n",
       "      <td>4.0</td>\n",
       "      <td>북촌로5가길 38</td>\n",
       "      <td>삼청파출소 사잇길</td>\n",
       "      <td>2022-10-28 15:10:42</td>\n",
       "      <td>2022-10-28 15:20:42</td>\n",
       "      <td>3090.0</td>\n",
       "      <td>3443.0</td>\n",
       "      <td>10</td>\n",
       "      <td>Friday</td>\n",
       "      <td>6533.0</td>\n",
       "      <td>15</td>\n",
       "    </tr>\n",
       "    <tr>\n",
       "      <th>998</th>\n",
       "      <td>2.0</td>\n",
       "      <td>계동길 69</td>\n",
       "      <td>계동교회 앞</td>\n",
       "      <td>2022-10-28 15:20:42</td>\n",
       "      <td>2022-10-28 15:30:42</td>\n",
       "      <td>16282.0</td>\n",
       "      <td>16699.0</td>\n",
       "      <td>10</td>\n",
       "      <td>Friday</td>\n",
       "      <td>32981.0</td>\n",
       "      <td>15</td>\n",
       "    </tr>\n",
       "    <tr>\n",
       "      <th>999</th>\n",
       "      <td>4.0</td>\n",
       "      <td>북촌로5가길 38</td>\n",
       "      <td>삼청파출소 사잇길</td>\n",
       "      <td>2022-10-28 15:20:42</td>\n",
       "      <td>2022-10-28 15:30:42</td>\n",
       "      <td>3182.0</td>\n",
       "      <td>3556.0</td>\n",
       "      <td>10</td>\n",
       "      <td>Friday</td>\n",
       "      <td>6738.0</td>\n",
       "      <td>15</td>\n",
       "    </tr>\n",
       "  </tbody>\n",
       "</table>\n",
       "<p>29276 rows × 11 columns</p>\n",
       "</div>"
      ],
      "text/plain": [
       "     DEVICEID DEVICENAME DESCRIPTION            STARTTIME             ENDTIME  \\\n",
       "0         2.0     계동길 69      계동교회 앞  2023-01-29 17:00:40 2023-01-29 17:10:40   \n",
       "1         1.0   율곡로3길 50      덕성여고 앞  2023-01-29 17:00:40 2023-01-29 17:10:40   \n",
       "2         2.0     계동길 69      계동교회 앞  2023-01-29 17:10:40 2023-01-29 17:20:40   \n",
       "3         1.0   율곡로3길 50      덕성여고 앞  2023-01-29 17:10:40 2023-01-29 17:20:40   \n",
       "4         2.0     계동길 69      계동교회 앞  2023-01-29 17:20:40 2023-01-29 17:30:40   \n",
       "..        ...        ...         ...                  ...                 ...   \n",
       "995       4.0  북촌로5가길 38   삼청파출소 사잇길  2022-10-28 15:00:42 2022-10-28 15:10:42   \n",
       "996       2.0     계동길 69      계동교회 앞  2022-10-28 15:10:42 2022-10-28 15:20:42   \n",
       "997       4.0  북촌로5가길 38   삼청파출소 사잇길  2022-10-28 15:10:42 2022-10-28 15:20:42   \n",
       "998       2.0     계동길 69      계동교회 앞  2022-10-28 15:20:42 2022-10-28 15:30:42   \n",
       "999       4.0  북촌로5가길 38   삼청파출소 사잇길  2022-10-28 15:20:42 2022-10-28 15:30:42   \n",
       "\n",
       "     INCOUNT  OUTCOUNT  MONTH    WEEK    TOTAL  HOUR  \n",
       "0     2600.0    3495.0      1  Sunday   6095.0    17  \n",
       "1     2820.0    3291.0      1  Sunday   6111.0    17  \n",
       "2     2640.0    3546.0      1  Sunday   6186.0    17  \n",
       "3     2857.0    3429.0      1  Sunday   6286.0    17  \n",
       "4     2683.0    3599.0      1  Sunday   6282.0    17  \n",
       "..       ...       ...    ...     ...      ...   ...  \n",
       "995   2937.0    3324.0     10  Friday   6261.0    15  \n",
       "996  16067.0   16449.0     10  Friday  32516.0    15  \n",
       "997   3090.0    3443.0     10  Friday   6533.0    15  \n",
       "998  16282.0   16699.0     10  Friday  32981.0    15  \n",
       "999   3182.0    3556.0     10  Friday   6738.0    15  \n",
       "\n",
       "[29276 rows x 11 columns]"
      ]
     },
     "execution_count": 31,
     "metadata": {},
     "output_type": "execute_result"
    }
   ],
   "source": [
    "cctv_df['HOUR'] = cctv_df['ENDTIME'].dt.hour\n",
    "cctv_df"
   ]
  },
  {
   "cell_type": "code",
   "execution_count": 32,
   "metadata": {},
   "outputs": [
    {
     "data": {
      "image/png": "[encoded data removed]",
      "text/plain": [
       "<Figure size 432x288 with 1 Axes>"
      ]
     },
     "metadata": {
      "needs_background": "light"
     },
     "output_type": "display_data"
    }
   ],
   "source": [
    "Hcount_IncountMean = cctv_df.groupby(['HOUR'])['INCOUNT'].mean()\n",
    "Hcount_OutcountMean = cctv_df.groupby(['HOUR'])['OUTCOUNT'].mean()\n",
    "hours = np.arange(0, 24)\n",
    "plt.plot(hours,Hcount_IncountMean, marker = 'o')\n",
    "plt.plot(hours, Hcount_OutcountMean, marker = 'o')\n",
    "plt.legend(['INCOUNT','OUTCOUNT'])\n",
    "plt.show()"
   ]
  },
  {
   "cell_type": "markdown",
   "metadata": {},
   "source": [
    "## 요일별 유동 인구"
   ]
  },
  {
   "cell_type": "code",
   "execution_count": 33,
   "metadata": {},
   "outputs": [
    {
     "data": {
      "text/html": [
       "<div>\n",
       "<style scoped>\n",
       "    .dataframe tbody tr th:only-of-type {\n",
       "        vertical-align: middle;\n",
       "    }\n",
       "\n",
       "    .dataframe tbody tr th {\n",
       "        vertical-align: top;\n",
       "    }\n",
       "\n",
       "    .dataframe thead th {\n",
       "        text-align: right;\n",
       "    }\n",
       "</style>\n",
       "<table border=\"1\" class=\"dataframe\">\n",
       "  <thead>\n",
       "    <tr style=\"text-align: right;\">\n",
       "      <th></th>\n",
       "      <th>DEVICEID</th>\n",
       "      <th>DEVICENAME</th>\n",
       "      <th>DESCRIPTION</th>\n",
       "      <th>STARTTIME</th>\n",
       "      <th>ENDTIME</th>\n",
       "      <th>INCOUNT</th>\n",
       "      <th>OUTCOUNT</th>\n",
       "      <th>MONTH</th>\n",
       "      <th>WEEK</th>\n",
       "      <th>TOTAL</th>\n",
       "      <th>HOUR</th>\n",
       "      <th>WEEKDAY</th>\n",
       "    </tr>\n",
       "  </thead>\n",
       "  <tbody>\n",
       "    <tr>\n",
       "      <th>0</th>\n",
       "      <td>2.0</td>\n",
       "      <td>계동길 69</td>\n",
       "      <td>계동교회 앞</td>\n",
       "      <td>2023-01-29 17:00:40</td>\n",
       "      <td>2023-01-29 17:10:40</td>\n",
       "      <td>2600.0</td>\n",
       "      <td>3495.0</td>\n",
       "      <td>1</td>\n",
       "      <td>Sunday</td>\n",
       "      <td>6095.0</td>\n",
       "      <td>17</td>\n",
       "      <td>6</td>\n",
       "    </tr>\n",
       "    <tr>\n",
       "      <th>1</th>\n",
       "      <td>1.0</td>\n",
       "      <td>율곡로3길 50</td>\n",
       "      <td>덕성여고 앞</td>\n",
       "      <td>2023-01-29 17:00:40</td>\n",
       "      <td>2023-01-29 17:10:40</td>\n",
       "      <td>2820.0</td>\n",
       "      <td>3291.0</td>\n",
       "      <td>1</td>\n",
       "      <td>Sunday</td>\n",
       "      <td>6111.0</td>\n",
       "      <td>17</td>\n",
       "      <td>6</td>\n",
       "    </tr>\n",
       "    <tr>\n",
       "      <th>2</th>\n",
       "      <td>2.0</td>\n",
       "      <td>계동길 69</td>\n",
       "      <td>계동교회 앞</td>\n",
       "      <td>2023-01-29 17:10:40</td>\n",
       "      <td>2023-01-29 17:20:40</td>\n",
       "      <td>2640.0</td>\n",
       "      <td>3546.0</td>\n",
       "      <td>1</td>\n",
       "      <td>Sunday</td>\n",
       "      <td>6186.0</td>\n",
       "      <td>17</td>\n",
       "      <td>6</td>\n",
       "    </tr>\n",
       "    <tr>\n",
       "      <th>3</th>\n",
       "      <td>1.0</td>\n",
       "      <td>율곡로3길 50</td>\n",
       "      <td>덕성여고 앞</td>\n",
       "      <td>2023-01-29 17:10:40</td>\n",
       "      <td>2023-01-29 17:20:40</td>\n",
       "      <td>2857.0</td>\n",
       "      <td>3429.0</td>\n",
       "      <td>1</td>\n",
       "      <td>Sunday</td>\n",
       "      <td>6286.0</td>\n",
       "      <td>17</td>\n",
       "      <td>6</td>\n",
       "    </tr>\n",
       "    <tr>\n",
       "      <th>4</th>\n",
       "      <td>2.0</td>\n",
       "      <td>계동길 69</td>\n",
       "      <td>계동교회 앞</td>\n",
       "      <td>2023-01-29 17:20:40</td>\n",
       "      <td>2023-01-29 17:30:40</td>\n",
       "      <td>2683.0</td>\n",
       "      <td>3599.0</td>\n",
       "      <td>1</td>\n",
       "      <td>Sunday</td>\n",
       "      <td>6282.0</td>\n",
       "      <td>17</td>\n",
       "      <td>6</td>\n",
       "    </tr>\n",
       "    <tr>\n",
       "      <th>...</th>\n",
       "      <td>...</td>\n",
       "      <td>...</td>\n",
       "      <td>...</td>\n",
       "      <td>...</td>\n",
       "      <td>...</td>\n",
       "      <td>...</td>\n",
       "      <td>...</td>\n",
       "      <td>...</td>\n",
       "      <td>...</td>\n",
       "      <td>...</td>\n",
       "      <td>...</td>\n",
       "      <td>...</td>\n",
       "    </tr>\n",
       "    <tr>\n",
       "      <th>995</th>\n",
       "      <td>4.0</td>\n",
       "      <td>북촌로5가길 38</td>\n",
       "      <td>삼청파출소 사잇길</td>\n",
       "      <td>2022-10-28 15:00:42</td>\n",
       "      <td>2022-10-28 15:10:42</td>\n",
       "      <td>2937.0</td>\n",
       "      <td>3324.0</td>\n",
       "      <td>10</td>\n",
       "      <td>Friday</td>\n",
       "      <td>6261.0</td>\n",
       "      <td>15</td>\n",
       "      <td>4</td>\n",
       "    </tr>\n",
       "    <tr>\n",
       "      <th>996</th>\n",
       "      <td>2.0</td>\n",
       "      <td>계동길 69</td>\n",
       "      <td>계동교회 앞</td>\n",
       "      <td>2022-10-28 15:10:42</td>\n",
       "      <td>2022-10-28 15:20:42</td>\n",
       "      <td>16067.0</td>\n",
       "      <td>16449.0</td>\n",
       "      <td>10</td>\n",
       "      <td>Friday</td>\n",
       "      <td>32516.0</td>\n",
       "      <td>15</td>\n",
       "      <td>4</td>\n",
       "    </tr>\n",
       "    <tr>\n",
       "      <th>997</th>\n",
       "      <td>4.0</td>\n",
       "      <td>북촌로5가길 38</td>\n",
       "      <td>삼청파출소 사잇길</td>\n",
       "      <td>2022-10-28 15:10:42</td>\n",
       "      <td>2022-10-28 15:20:42</td>\n",
       "      <td>3090.0</td>\n",
       "      <td>3443.0</td>\n",
       "      <td>10</td>\n",
       "      <td>Friday</td>\n",
       "      <td>6533.0</td>\n",
       "      <td>15</td>\n",
       "      <td>4</td>\n",
       "    </tr>\n",
       "    <tr>\n",
       "      <th>998</th>\n",
       "      <td>2.0</td>\n",
       "      <td>계동길 69</td>\n",
       "      <td>계동교회 앞</td>\n",
       "      <td>2022-10-28 15:20:42</td>\n",
       "      <td>2022-10-28 15:30:42</td>\n",
       "      <td>16282.0</td>\n",
       "      <td>16699.0</td>\n",
       "      <td>10</td>\n",
       "      <td>Friday</td>\n",
       "      <td>32981.0</td>\n",
       "      <td>15</td>\n",
       "      <td>4</td>\n",
       "    </tr>\n",
       "    <tr>\n",
       "      <th>999</th>\n",
       "      <td>4.0</td>\n",
       "      <td>북촌로5가길 38</td>\n",
       "      <td>삼청파출소 사잇길</td>\n",
       "      <td>2022-10-28 15:20:42</td>\n",
       "      <td>2022-10-28 15:30:42</td>\n",
       "      <td>3182.0</td>\n",
       "      <td>3556.0</td>\n",
       "      <td>10</td>\n",
       "      <td>Friday</td>\n",
       "      <td>6738.0</td>\n",
       "      <td>15</td>\n",
       "      <td>4</td>\n",
       "    </tr>\n",
       "  </tbody>\n",
       "</table>\n",
       "<p>29276 rows × 12 columns</p>\n",
       "</div>"
      ],
      "text/plain": [
       "     DEVICEID DEVICENAME DESCRIPTION            STARTTIME             ENDTIME  \\\n",
       "0         2.0     계동길 69      계동교회 앞  2023-01-29 17:00:40 2023-01-29 17:10:40   \n",
       "1         1.0   율곡로3길 50      덕성여고 앞  2023-01-29 17:00:40 2023-01-29 17:10:40   \n",
       "2         2.0     계동길 69      계동교회 앞  2023-01-29 17:10:40 2023-01-29 17:20:40   \n",
       "3         1.0   율곡로3길 50      덕성여고 앞  2023-01-29 17:10:40 2023-01-29 17:20:40   \n",
       "4         2.0     계동길 69      계동교회 앞  2023-01-29 17:20:40 2023-01-29 17:30:40   \n",
       "..        ...        ...         ...                  ...                 ...   \n",
       "995       4.0  북촌로5가길 38   삼청파출소 사잇길  2022-10-28 15:00:42 2022-10-28 15:10:42   \n",
       "996       2.0     계동길 69      계동교회 앞  2022-10-28 15:10:42 2022-10-28 15:20:42   \n",
       "997       4.0  북촌로5가길 38   삼청파출소 사잇길  2022-10-28 15:10:42 2022-10-28 15:20:42   \n",
       "998       2.0     계동길 69      계동교회 앞  2022-10-28 15:20:42 2022-10-28 15:30:42   \n",
       "999       4.0  북촌로5가길 38   삼청파출소 사잇길  2022-10-28 15:20:42 2022-10-28 15:30:42   \n",
       "\n",
       "     INCOUNT  OUTCOUNT  MONTH    WEEK    TOTAL  HOUR  WEEKDAY  \n",
       "0     2600.0    3495.0      1  Sunday   6095.0    17        6  \n",
       "1     2820.0    3291.0      1  Sunday   6111.0    17        6  \n",
       "2     2640.0    3546.0      1  Sunday   6186.0    17        6  \n",
       "3     2857.0    3429.0      1  Sunday   6286.0    17        6  \n",
       "4     2683.0    3599.0      1  Sunday   6282.0    17        6  \n",
       "..       ...       ...    ...     ...      ...   ...      ...  \n",
       "995   2937.0    3324.0     10  Friday   6261.0    15        4  \n",
       "996  16067.0   16449.0     10  Friday  32516.0    15        4  \n",
       "997   3090.0    3443.0     10  Friday   6533.0    15        4  \n",
       "998  16282.0   16699.0     10  Friday  32981.0    15        4  \n",
       "999   3182.0    3556.0     10  Friday   6738.0    15        4  \n",
       "\n",
       "[29276 rows x 12 columns]"
      ]
     },
     "execution_count": 33,
     "metadata": {},
     "output_type": "execute_result"
    }
   ],
   "source": [
    "cctv_df['ENDTIME'] = pd.to_datetime(cctv_df['ENDTIME'])\n",
    "cctv_df['WEEKDAY'] = cctv_df['ENDTIME'].dt.weekday\n",
    "cctv_df"
   ]
  },
  {
   "cell_type": "code",
   "execution_count": 34,
   "metadata": {},
   "outputs": [
    {
     "data": {
      "image/png": "[encoded data removed]",
      "text/plain": [
       "<Figure size 432x288 with 1 Axes>"
      ]
     },
     "metadata": {
      "needs_background": "light"
     },
     "output_type": "display_data"
    }
   ],
   "source": [
    "Wcount_countMean = cctv_df.groupby(['WEEKDAY'])['INCOUNT','OUTCOUNT'].mean()\n",
    "bar_width = 0.4\n",
    "days = ['월요일', '화요일', '수요일', '목요일', '금요일', '토요일', '일요일']\n",
    "index = np.arange(len(days))\n",
    "plt.bar(index, Wcount_countMean['INCOUNT'], color ='r', width = bar_width, label = 'INCOUNT')\n",
    "plt.bar(index + bar_width, Wcount_countMean['OUTCOUNT'], color = 'c',width = bar_width, label = 'OUTCOUNT')\n",
    "plt.xticks(index+0.2, days)\n",
    "plt.legend()\n",
    "plt.show()"
   ]
  },
  {
   "cell_type": "code",
   "execution_count": 35,
   "metadata": {},
   "outputs": [
    {
     "data": {
      "text/plain": [
       "WEEKDAY\n",
       "0    46936.0\n",
       "1    48714.0\n",
       "2    54730.0\n",
       "3    49032.0\n",
       "4    46834.0\n",
       "5    44065.0\n",
       "6    46841.0\n",
       "Name: TOTAL, dtype: float64"
      ]
     },
     "execution_count": 35,
     "metadata": {},
     "output_type": "execute_result"
    }
   ],
   "source": [
    "Wcount_countMinMax = cctv_df.groupby(['WEEKDAY'])['TOTAL'].max()\n",
    "Wcount_countMinMax"
   ]
  },
  {
   "cell_type": "code",
   "execution_count": 36,
   "metadata": {},
   "outputs": [
    {
     "data": {
      "image/png": "[encoded data removed]",
      "text/plain": [
       "<Figure size 432x288 with 1 Axes>"
      ]
     },
     "metadata": {
      "needs_background": "light"
     },
     "output_type": "display_data"
    }
   ],
   "source": [
    "days = ['월요일', '화요일', '수요일', '목요일', '금요일', '토요일', '일요일']\n",
    "index = np.arange(len(days))\n",
    "plt.bar(index, Wcount_countMinMax)\n",
    "plt.xticks(index, days)\n",
    "plt.show()"
   ]
  },
  {
   "cell_type": "markdown",
   "metadata": {},
   "source": [
    "## 계동교회 앞 월별, 시간별, 요일별 그래프"
   ]
  },
  {
   "cell_type": "code",
   "execution_count": 37,
   "metadata": {},
   "outputs": [
    {
     "data": {
      "text/html": [
       "<div>\n",
       "<style scoped>\n",
       "    .dataframe tbody tr th:only-of-type {\n",
       "        vertical-align: middle;\n",
       "    }\n",
       "\n",
       "    .dataframe tbody tr th {\n",
       "        vertical-align: top;\n",
       "    }\n",
       "\n",
       "    .dataframe thead th {\n",
       "        text-align: right;\n",
       "    }\n",
       "</style>\n",
       "<table border=\"1\" class=\"dataframe\">\n",
       "  <thead>\n",
       "    <tr style=\"text-align: right;\">\n",
       "      <th></th>\n",
       "      <th>DEVICEID</th>\n",
       "      <th>DEVICENAME</th>\n",
       "      <th>DESCRIPTION</th>\n",
       "      <th>STARTTIME</th>\n",
       "      <th>ENDTIME</th>\n",
       "      <th>INCOUNT</th>\n",
       "      <th>OUTCOUNT</th>\n",
       "      <th>MONTH</th>\n",
       "      <th>WEEK</th>\n",
       "      <th>TOTAL</th>\n",
       "      <th>HOUR</th>\n",
       "      <th>WEEKDAY</th>\n",
       "    </tr>\n",
       "  </thead>\n",
       "  <tbody>\n",
       "    <tr>\n",
       "      <th>0</th>\n",
       "      <td>2.0</td>\n",
       "      <td>계동길 69</td>\n",
       "      <td>계동교회 앞</td>\n",
       "      <td>2023-01-29 17:00:40</td>\n",
       "      <td>2023-01-29 17:10:40</td>\n",
       "      <td>2600.0</td>\n",
       "      <td>3495.0</td>\n",
       "      <td>1</td>\n",
       "      <td>Sunday</td>\n",
       "      <td>6095.0</td>\n",
       "      <td>17</td>\n",
       "      <td>6</td>\n",
       "    </tr>\n",
       "    <tr>\n",
       "      <th>2</th>\n",
       "      <td>2.0</td>\n",
       "      <td>계동길 69</td>\n",
       "      <td>계동교회 앞</td>\n",
       "      <td>2023-01-29 17:10:40</td>\n",
       "      <td>2023-01-29 17:20:40</td>\n",
       "      <td>2640.0</td>\n",
       "      <td>3546.0</td>\n",
       "      <td>1</td>\n",
       "      <td>Sunday</td>\n",
       "      <td>6186.0</td>\n",
       "      <td>17</td>\n",
       "      <td>6</td>\n",
       "    </tr>\n",
       "    <tr>\n",
       "      <th>4</th>\n",
       "      <td>2.0</td>\n",
       "      <td>계동길 69</td>\n",
       "      <td>계동교회 앞</td>\n",
       "      <td>2023-01-29 17:20:40</td>\n",
       "      <td>2023-01-29 17:30:40</td>\n",
       "      <td>2683.0</td>\n",
       "      <td>3599.0</td>\n",
       "      <td>1</td>\n",
       "      <td>Sunday</td>\n",
       "      <td>6282.0</td>\n",
       "      <td>17</td>\n",
       "      <td>6</td>\n",
       "    </tr>\n",
       "    <tr>\n",
       "      <th>6</th>\n",
       "      <td>2.0</td>\n",
       "      <td>계동길 69</td>\n",
       "      <td>계동교회 앞</td>\n",
       "      <td>2023-01-29 17:30:40</td>\n",
       "      <td>2023-01-29 17:40:40</td>\n",
       "      <td>2737.0</td>\n",
       "      <td>3657.0</td>\n",
       "      <td>1</td>\n",
       "      <td>Sunday</td>\n",
       "      <td>6394.0</td>\n",
       "      <td>17</td>\n",
       "      <td>6</td>\n",
       "    </tr>\n",
       "    <tr>\n",
       "      <th>8</th>\n",
       "      <td>2.0</td>\n",
       "      <td>계동길 69</td>\n",
       "      <td>계동교회 앞</td>\n",
       "      <td>2023-01-29 17:40:40</td>\n",
       "      <td>2023-01-29 17:50:40</td>\n",
       "      <td>2772.0</td>\n",
       "      <td>3716.0</td>\n",
       "      <td>1</td>\n",
       "      <td>Sunday</td>\n",
       "      <td>6488.0</td>\n",
       "      <td>17</td>\n",
       "      <td>6</td>\n",
       "    </tr>\n",
       "    <tr>\n",
       "      <th>...</th>\n",
       "      <td>...</td>\n",
       "      <td>...</td>\n",
       "      <td>...</td>\n",
       "      <td>...</td>\n",
       "      <td>...</td>\n",
       "      <td>...</td>\n",
       "      <td>...</td>\n",
       "      <td>...</td>\n",
       "      <td>...</td>\n",
       "      <td>...</td>\n",
       "      <td>...</td>\n",
       "      <td>...</td>\n",
       "    </tr>\n",
       "    <tr>\n",
       "      <th>990</th>\n",
       "      <td>2.0</td>\n",
       "      <td>계동길 69</td>\n",
       "      <td>계동교회 앞</td>\n",
       "      <td>2022-10-28 14:40:42</td>\n",
       "      <td>2022-10-28 14:50:42</td>\n",
       "      <td>15301.0</td>\n",
       "      <td>15649.0</td>\n",
       "      <td>10</td>\n",
       "      <td>Friday</td>\n",
       "      <td>30950.0</td>\n",
       "      <td>14</td>\n",
       "      <td>4</td>\n",
       "    </tr>\n",
       "    <tr>\n",
       "      <th>992</th>\n",
       "      <td>2.0</td>\n",
       "      <td>계동길 69</td>\n",
       "      <td>계동교회 앞</td>\n",
       "      <td>2022-10-28 14:50:42</td>\n",
       "      <td>2022-10-28 15:00:42</td>\n",
       "      <td>15551.0</td>\n",
       "      <td>15916.0</td>\n",
       "      <td>10</td>\n",
       "      <td>Friday</td>\n",
       "      <td>31467.0</td>\n",
       "      <td>15</td>\n",
       "      <td>4</td>\n",
       "    </tr>\n",
       "    <tr>\n",
       "      <th>994</th>\n",
       "      <td>2.0</td>\n",
       "      <td>계동길 69</td>\n",
       "      <td>계동교회 앞</td>\n",
       "      <td>2022-10-28 15:00:42</td>\n",
       "      <td>2022-10-28 15:10:42</td>\n",
       "      <td>15820.0</td>\n",
       "      <td>16198.0</td>\n",
       "      <td>10</td>\n",
       "      <td>Friday</td>\n",
       "      <td>32018.0</td>\n",
       "      <td>15</td>\n",
       "      <td>4</td>\n",
       "    </tr>\n",
       "    <tr>\n",
       "      <th>996</th>\n",
       "      <td>2.0</td>\n",
       "      <td>계동길 69</td>\n",
       "      <td>계동교회 앞</td>\n",
       "      <td>2022-10-28 15:10:42</td>\n",
       "      <td>2022-10-28 15:20:42</td>\n",
       "      <td>16067.0</td>\n",
       "      <td>16449.0</td>\n",
       "      <td>10</td>\n",
       "      <td>Friday</td>\n",
       "      <td>32516.0</td>\n",
       "      <td>15</td>\n",
       "      <td>4</td>\n",
       "    </tr>\n",
       "    <tr>\n",
       "      <th>998</th>\n",
       "      <td>2.0</td>\n",
       "      <td>계동길 69</td>\n",
       "      <td>계동교회 앞</td>\n",
       "      <td>2022-10-28 15:20:42</td>\n",
       "      <td>2022-10-28 15:30:42</td>\n",
       "      <td>16282.0</td>\n",
       "      <td>16699.0</td>\n",
       "      <td>10</td>\n",
       "      <td>Friday</td>\n",
       "      <td>32981.0</td>\n",
       "      <td>15</td>\n",
       "      <td>4</td>\n",
       "    </tr>\n",
       "  </tbody>\n",
       "</table>\n",
       "<p>13683 rows × 12 columns</p>\n",
       "</div>"
      ],
      "text/plain": [
       "     DEVICEID DEVICENAME DESCRIPTION            STARTTIME             ENDTIME  \\\n",
       "0         2.0     계동길 69      계동교회 앞  2023-01-29 17:00:40 2023-01-29 17:10:40   \n",
       "2         2.0     계동길 69      계동교회 앞  2023-01-29 17:10:40 2023-01-29 17:20:40   \n",
       "4         2.0     계동길 69      계동교회 앞  2023-01-29 17:20:40 2023-01-29 17:30:40   \n",
       "6         2.0     계동길 69      계동교회 앞  2023-01-29 17:30:40 2023-01-29 17:40:40   \n",
       "8         2.0     계동길 69      계동교회 앞  2023-01-29 17:40:40 2023-01-29 17:50:40   \n",
       "..        ...        ...         ...                  ...                 ...   \n",
       "990       2.0     계동길 69      계동교회 앞  2022-10-28 14:40:42 2022-10-28 14:50:42   \n",
       "992       2.0     계동길 69      계동교회 앞  2022-10-28 14:50:42 2022-10-28 15:00:42   \n",
       "994       2.0     계동길 69      계동교회 앞  2022-10-28 15:00:42 2022-10-28 15:10:42   \n",
       "996       2.0     계동길 69      계동교회 앞  2022-10-28 15:10:42 2022-10-28 15:20:42   \n",
       "998       2.0     계동길 69      계동교회 앞  2022-10-28 15:20:42 2022-10-28 15:30:42   \n",
       "\n",
       "     INCOUNT  OUTCOUNT  MONTH    WEEK    TOTAL  HOUR  WEEKDAY  \n",
       "0     2600.0    3495.0      1  Sunday   6095.0    17        6  \n",
       "2     2640.0    3546.0      1  Sunday   6186.0    17        6  \n",
       "4     2683.0    3599.0      1  Sunday   6282.0    17        6  \n",
       "6     2737.0    3657.0      1  Sunday   6394.0    17        6  \n",
       "8     2772.0    3716.0      1  Sunday   6488.0    17        6  \n",
       "..       ...       ...    ...     ...      ...   ...      ...  \n",
       "990  15301.0   15649.0     10  Friday  30950.0    14        4  \n",
       "992  15551.0   15916.0     10  Friday  31467.0    15        4  \n",
       "994  15820.0   16198.0     10  Friday  32018.0    15        4  \n",
       "996  16067.0   16449.0     10  Friday  32516.0    15        4  \n",
       "998  16282.0   16699.0     10  Friday  32981.0    15        4  \n",
       "\n",
       "[13683 rows x 12 columns]"
      ]
     },
     "execution_count": 37,
     "metadata": {},
     "output_type": "execute_result"
    }
   ],
   "source": [
    "G_chruch = cctv_df.loc[cctv_df['DESCRIPTION'] == '계동교회 앞',:]\n",
    "G_chruch"
   ]
  },
  {
   "cell_type": "code",
   "execution_count": 62,
   "metadata": {},
   "outputs": [
    {
     "data": {
      "image/png": "[encoded data removed]",
      "text/plain": [
       "<Figure size 432x288 with 1 Axes>"
      ]
     },
     "metadata": {
      "needs_background": "light"
     },
     "output_type": "display_data"
    }
   ],
   "source": [
    "Gcount_countMean = G_chruch.groupby(['WEEKDAY'])['INCOUNT','OUTCOUNT'].mean()\n",
    "bar_width = 0.4\n",
    "days = ['월요일', '화요일', '수요일', '목요일', '금요일', '토요일', '일요일']\n",
    "index = np.arange(len(days))\n",
    "plt.bar(index, Gcount_countMean['INCOUNT'], color ='r', width = bar_width, label = 'INCOUNT')\n",
    "plt.bar(index + bar_width, Gcount_countMean['OUTCOUNT'], color = 'c',width = bar_width, label = 'OUTCOUNT')\n",
    "plt.xticks(index+0.2, days)\n",
    "plt.legend()\n",
    "plt.show()"
   ]
  },
  {
   "cell_type": "code",
   "execution_count": 39,
   "metadata": {},
   "outputs": [
    {
     "data": {
      "image/png": "[encoded data removed]",
      "text/plain": [
       "<Figure size 432x288 with 1 Axes>"
      ]
     },
     "metadata": {
      "needs_background": "light"
     },
     "output_type": "display_data"
    }
   ],
   "source": [
    "Gcount_MaxMin = G_chruch.groupby(['MONTH'])['INCOUNT', 'OUTCOUNT'].mean()\n",
    "bar_width = 0.4\n",
    "label = ['1월','10월','11월','12월']\n",
    "index = np.arange(len(label))\n",
    "plt.bar(index, Gcount_MaxMin['INCOUNT'], color ='r', width = bar_width, label = 'INCOUNT')\n",
    "plt.bar(index + bar_width, Gcount_MaxMin['OUTCOUNT'], color = 'c',width = bar_width, label = 'OUTCOUNT')\n",
    "plt.xticks(index+0.2, label)\n",
    "plt.legend()\n",
    "plt.show()"
   ]
  },
  {
   "cell_type": "code",
   "execution_count": 40,
   "metadata": {},
   "outputs": [
    {
     "data": {
      "image/png": "[encoded data removed]",
      "text/plain": [
       "<Figure size 432x288 with 1 Axes>"
      ]
     },
     "metadata": {
      "needs_background": "light"
     },
     "output_type": "display_data"
    }
   ],
   "source": [
    "Gcount_IncountMean = G_chruch.groupby(['HOUR'])['INCOUNT'].mean()\n",
    "Gcount_OutcountMean = G_chruch.groupby(['HOUR'])['OUTCOUNT'].mean()\n",
    "hours = np.arange(0, 24)\n",
    "plt.plot(hours,Gcount_IncountMean, marker = 'o')\n",
    "plt.plot(hours, Gcount_IncountMean, marker = 'o')\n",
    "plt.legend(['INCOUNT','OUTCOUNT'])\n",
    "plt.show()"
   ]
  },
  {
   "cell_type": "markdown",
   "metadata": {},
   "source": [
    "## 삼청파출소 사잇길 월별, 시간별, 요일별 그래프"
   ]
  },
  {
   "cell_type": "code",
   "execution_count": 48,
   "metadata": {},
   "outputs": [
    {
     "data": {
      "text/html": [
       "<div>\n",
       "<style scoped>\n",
       "    .dataframe tbody tr th:only-of-type {\n",
       "        vertical-align: middle;\n",
       "    }\n",
       "\n",
       "    .dataframe tbody tr th {\n",
       "        vertical-align: top;\n",
       "    }\n",
       "\n",
       "    .dataframe thead th {\n",
       "        text-align: right;\n",
       "    }\n",
       "</style>\n",
       "<table border=\"1\" class=\"dataframe\">\n",
       "  <thead>\n",
       "    <tr style=\"text-align: right;\">\n",
       "      <th></th>\n",
       "      <th>DEVICEID</th>\n",
       "      <th>DEVICENAME</th>\n",
       "      <th>DESCRIPTION</th>\n",
       "      <th>STARTTIME</th>\n",
       "      <th>ENDTIME</th>\n",
       "      <th>INCOUNT</th>\n",
       "      <th>OUTCOUNT</th>\n",
       "      <th>MONTH</th>\n",
       "      <th>WEEK</th>\n",
       "      <th>TOTAL</th>\n",
       "      <th>HOUR</th>\n",
       "      <th>WEEKDAY</th>\n",
       "    </tr>\n",
       "  </thead>\n",
       "  <tbody>\n",
       "    <tr>\n",
       "      <th>1</th>\n",
       "      <td>4.0</td>\n",
       "      <td>북촌로5가길 38</td>\n",
       "      <td>삼청파출소 사잇길</td>\n",
       "      <td>2022-11-19 11:10:42</td>\n",
       "      <td>2022-11-19 11:20:42</td>\n",
       "      <td>646.0</td>\n",
       "      <td>1027.0</td>\n",
       "      <td>11</td>\n",
       "      <td>Saturday</td>\n",
       "      <td>1673.0</td>\n",
       "      <td>11</td>\n",
       "      <td>5</td>\n",
       "    </tr>\n",
       "    <tr>\n",
       "      <th>4</th>\n",
       "      <td>4.0</td>\n",
       "      <td>북촌로5가길 38</td>\n",
       "      <td>삼청파출소 사잇길</td>\n",
       "      <td>2022-11-19 11:20:42</td>\n",
       "      <td>2022-11-19 11:30:42</td>\n",
       "      <td>686.0</td>\n",
       "      <td>1126.0</td>\n",
       "      <td>11</td>\n",
       "      <td>Saturday</td>\n",
       "      <td>1812.0</td>\n",
       "      <td>11</td>\n",
       "      <td>5</td>\n",
       "    </tr>\n",
       "    <tr>\n",
       "      <th>7</th>\n",
       "      <td>4.0</td>\n",
       "      <td>북촌로5가길 38</td>\n",
       "      <td>삼청파출소 사잇길</td>\n",
       "      <td>2022-11-19 11:30:42</td>\n",
       "      <td>2022-11-19 11:40:42</td>\n",
       "      <td>758.0</td>\n",
       "      <td>1218.0</td>\n",
       "      <td>11</td>\n",
       "      <td>Saturday</td>\n",
       "      <td>1976.0</td>\n",
       "      <td>11</td>\n",
       "      <td>5</td>\n",
       "    </tr>\n",
       "    <tr>\n",
       "      <th>10</th>\n",
       "      <td>4.0</td>\n",
       "      <td>북촌로5가길 38</td>\n",
       "      <td>삼청파출소 사잇길</td>\n",
       "      <td>2022-11-19 11:40:42</td>\n",
       "      <td>2022-11-19 11:50:42</td>\n",
       "      <td>809.0</td>\n",
       "      <td>1325.0</td>\n",
       "      <td>11</td>\n",
       "      <td>Saturday</td>\n",
       "      <td>2134.0</td>\n",
       "      <td>11</td>\n",
       "      <td>5</td>\n",
       "    </tr>\n",
       "    <tr>\n",
       "      <th>13</th>\n",
       "      <td>4.0</td>\n",
       "      <td>북촌로5가길 38</td>\n",
       "      <td>삼청파출소 사잇길</td>\n",
       "      <td>2022-11-19 11:50:42</td>\n",
       "      <td>2022-11-19 12:00:42</td>\n",
       "      <td>845.0</td>\n",
       "      <td>1404.0</td>\n",
       "      <td>11</td>\n",
       "      <td>Saturday</td>\n",
       "      <td>2249.0</td>\n",
       "      <td>12</td>\n",
       "      <td>5</td>\n",
       "    </tr>\n",
       "    <tr>\n",
       "      <th>...</th>\n",
       "      <td>...</td>\n",
       "      <td>...</td>\n",
       "      <td>...</td>\n",
       "      <td>...</td>\n",
       "      <td>...</td>\n",
       "      <td>...</td>\n",
       "      <td>...</td>\n",
       "      <td>...</td>\n",
       "      <td>...</td>\n",
       "      <td>...</td>\n",
       "      <td>...</td>\n",
       "      <td>...</td>\n",
       "    </tr>\n",
       "    <tr>\n",
       "      <th>991</th>\n",
       "      <td>4.0</td>\n",
       "      <td>북촌로5가길 38</td>\n",
       "      <td>삼청파출소 사잇길</td>\n",
       "      <td>2022-10-28 14:40:42</td>\n",
       "      <td>2022-10-28 14:50:42</td>\n",
       "      <td>2730.0</td>\n",
       "      <td>3085.0</td>\n",
       "      <td>10</td>\n",
       "      <td>Friday</td>\n",
       "      <td>5815.0</td>\n",
       "      <td>14</td>\n",
       "      <td>4</td>\n",
       "    </tr>\n",
       "    <tr>\n",
       "      <th>993</th>\n",
       "      <td>4.0</td>\n",
       "      <td>북촌로5가길 38</td>\n",
       "      <td>삼청파출소 사잇길</td>\n",
       "      <td>2022-10-28 14:50:42</td>\n",
       "      <td>2022-10-28 15:00:42</td>\n",
       "      <td>2826.0</td>\n",
       "      <td>3222.0</td>\n",
       "      <td>10</td>\n",
       "      <td>Friday</td>\n",
       "      <td>6048.0</td>\n",
       "      <td>15</td>\n",
       "      <td>4</td>\n",
       "    </tr>\n",
       "    <tr>\n",
       "      <th>995</th>\n",
       "      <td>4.0</td>\n",
       "      <td>북촌로5가길 38</td>\n",
       "      <td>삼청파출소 사잇길</td>\n",
       "      <td>2022-10-28 15:00:42</td>\n",
       "      <td>2022-10-28 15:10:42</td>\n",
       "      <td>2937.0</td>\n",
       "      <td>3324.0</td>\n",
       "      <td>10</td>\n",
       "      <td>Friday</td>\n",
       "      <td>6261.0</td>\n",
       "      <td>15</td>\n",
       "      <td>4</td>\n",
       "    </tr>\n",
       "    <tr>\n",
       "      <th>997</th>\n",
       "      <td>4.0</td>\n",
       "      <td>북촌로5가길 38</td>\n",
       "      <td>삼청파출소 사잇길</td>\n",
       "      <td>2022-10-28 15:10:42</td>\n",
       "      <td>2022-10-28 15:20:42</td>\n",
       "      <td>3090.0</td>\n",
       "      <td>3443.0</td>\n",
       "      <td>10</td>\n",
       "      <td>Friday</td>\n",
       "      <td>6533.0</td>\n",
       "      <td>15</td>\n",
       "      <td>4</td>\n",
       "    </tr>\n",
       "    <tr>\n",
       "      <th>999</th>\n",
       "      <td>4.0</td>\n",
       "      <td>북촌로5가길 38</td>\n",
       "      <td>삼청파출소 사잇길</td>\n",
       "      <td>2022-10-28 15:20:42</td>\n",
       "      <td>2022-10-28 15:30:42</td>\n",
       "      <td>3182.0</td>\n",
       "      <td>3556.0</td>\n",
       "      <td>10</td>\n",
       "      <td>Friday</td>\n",
       "      <td>6738.0</td>\n",
       "      <td>15</td>\n",
       "      <td>4</td>\n",
       "    </tr>\n",
       "  </tbody>\n",
       "</table>\n",
       "<p>3573 rows × 12 columns</p>\n",
       "</div>"
      ],
      "text/plain": [
       "     DEVICEID DEVICENAME DESCRIPTION            STARTTIME             ENDTIME  \\\n",
       "1         4.0  북촌로5가길 38   삼청파출소 사잇길  2022-11-19 11:10:42 2022-11-19 11:20:42   \n",
       "4         4.0  북촌로5가길 38   삼청파출소 사잇길  2022-11-19 11:20:42 2022-11-19 11:30:42   \n",
       "7         4.0  북촌로5가길 38   삼청파출소 사잇길  2022-11-19 11:30:42 2022-11-19 11:40:42   \n",
       "10        4.0  북촌로5가길 38   삼청파출소 사잇길  2022-11-19 11:40:42 2022-11-19 11:50:42   \n",
       "13        4.0  북촌로5가길 38   삼청파출소 사잇길  2022-11-19 11:50:42 2022-11-19 12:00:42   \n",
       "..        ...        ...         ...                  ...                 ...   \n",
       "991       4.0  북촌로5가길 38   삼청파출소 사잇길  2022-10-28 14:40:42 2022-10-28 14:50:42   \n",
       "993       4.0  북촌로5가길 38   삼청파출소 사잇길  2022-10-28 14:50:42 2022-10-28 15:00:42   \n",
       "995       4.0  북촌로5가길 38   삼청파출소 사잇길  2022-10-28 15:00:42 2022-10-28 15:10:42   \n",
       "997       4.0  북촌로5가길 38   삼청파출소 사잇길  2022-10-28 15:10:42 2022-10-28 15:20:42   \n",
       "999       4.0  북촌로5가길 38   삼청파출소 사잇길  2022-10-28 15:20:42 2022-10-28 15:30:42   \n",
       "\n",
       "     INCOUNT  OUTCOUNT  MONTH      WEEK   TOTAL  HOUR  WEEKDAY  \n",
       "1      646.0    1027.0     11  Saturday  1673.0    11        5  \n",
       "4      686.0    1126.0     11  Saturday  1812.0    11        5  \n",
       "7      758.0    1218.0     11  Saturday  1976.0    11        5  \n",
       "10     809.0    1325.0     11  Saturday  2134.0    11        5  \n",
       "13     845.0    1404.0     11  Saturday  2249.0    12        5  \n",
       "..       ...       ...    ...       ...     ...   ...      ...  \n",
       "991   2730.0    3085.0     10    Friday  5815.0    14        4  \n",
       "993   2826.0    3222.0     10    Friday  6048.0    15        4  \n",
       "995   2937.0    3324.0     10    Friday  6261.0    15        4  \n",
       "997   3090.0    3443.0     10    Friday  6533.0    15        4  \n",
       "999   3182.0    3556.0     10    Friday  6738.0    15        4  \n",
       "\n",
       "[3573 rows x 12 columns]"
      ]
     },
     "execution_count": 48,
     "metadata": {},
     "output_type": "execute_result"
    }
   ],
   "source": [
    "G_police = cctv_df.loc[cctv_df['DESCRIPTION'] == '삼청파출소 사잇길',:]\n",
    "G_police"
   ]
  },
  {
   "cell_type": "code",
   "execution_count": 49,
   "metadata": {},
   "outputs": [
    {
     "data": {
      "image/png": "[encoded data removed]",
      "text/plain": [
       "<Figure size 432x288 with 1 Axes>"
      ]
     },
     "metadata": {
      "needs_background": "light"
     },
     "output_type": "display_data"
    }
   ],
   "source": [
    "Gcount_countMean = G_police.groupby(['WEEKDAY'])['INCOUNT','OUTCOUNT'].mean()\n",
    "bar_width = 0.4\n",
    "days = ['월요일', '화요일', '수요일', '목요일', '금요일', '토요일', '일요일']\n",
    "index = np.arange(len(days))\n",
    "plt.bar(index, Gcount_countMean['INCOUNT'], color ='y', width = bar_width, label = 'INCOUNT')\n",
    "plt.bar(index + bar_width, Gcount_countMean['OUTCOUNT'], color = 'g',width = bar_width, label = 'OUTCOUNT')\n",
    "plt.xticks(index+0.2, days)\n",
    "plt.legend()\n",
    "plt.show()"
   ]
  },
  {
   "cell_type": "code",
   "execution_count": 50,
   "metadata": {
    "scrolled": true
   },
   "outputs": [
    {
     "ename": "ValueError",
     "evalue": "shape mismatch: objects cannot be broadcast to a single shape.  Mismatch is between arg 0 with shape (4,) and arg 1 with shape (2,).",
     "output_type": "error",
     "traceback": [
      "\u001b[1;31m---------------------------------------------------------------------------\u001b[0m",
      "\u001b[1;31mValueError\u001b[0m                                Traceback (most recent call last)",
      "\u001b[1;32m<ipython-input-50-b89827451660>\u001b[0m in \u001b[0;36m<module>\u001b[1;34m\u001b[0m\n\u001b[0;32m      2\u001b[0m \u001b[0mlabel\u001b[0m \u001b[1;33m=\u001b[0m \u001b[1;33m[\u001b[0m\u001b[1;34m'1월'\u001b[0m\u001b[1;33m,\u001b[0m\u001b[1;34m'10월'\u001b[0m\u001b[1;33m,\u001b[0m\u001b[1;34m'11월'\u001b[0m\u001b[1;33m,\u001b[0m\u001b[1;34m'12월'\u001b[0m\u001b[1;33m]\u001b[0m\u001b[1;33m\u001b[0m\u001b[1;33m\u001b[0m\u001b[0m\n\u001b[0;32m      3\u001b[0m \u001b[0mindex\u001b[0m \u001b[1;33m=\u001b[0m \u001b[0mnp\u001b[0m\u001b[1;33m.\u001b[0m\u001b[0marange\u001b[0m\u001b[1;33m(\u001b[0m\u001b[0mlen\u001b[0m\u001b[1;33m(\u001b[0m\u001b[0mlabel\u001b[0m\u001b[1;33m)\u001b[0m\u001b[1;33m)\u001b[0m\u001b[1;33m\u001b[0m\u001b[1;33m\u001b[0m\u001b[0m\n\u001b[1;32m----> 4\u001b[1;33m \u001b[0mplt\u001b[0m\u001b[1;33m.\u001b[0m\u001b[0mbar\u001b[0m\u001b[1;33m(\u001b[0m\u001b[0mindex\u001b[0m\u001b[1;33m,\u001b[0m \u001b[0mGcount_MaxMin\u001b[0m\u001b[1;33m[\u001b[0m\u001b[1;34m'INCOUNT'\u001b[0m\u001b[1;33m]\u001b[0m\u001b[1;33m,\u001b[0m \u001b[0mcolor\u001b[0m \u001b[1;33m=\u001b[0m\u001b[1;34m'y'\u001b[0m\u001b[1;33m,\u001b[0m \u001b[0mwidth\u001b[0m \u001b[1;33m=\u001b[0m \u001b[0mbar_width\u001b[0m\u001b[1;33m,\u001b[0m \u001b[0mlabel\u001b[0m \u001b[1;33m=\u001b[0m \u001b[1;34m'INCOUNT'\u001b[0m\u001b[1;33m)\u001b[0m\u001b[1;33m\u001b[0m\u001b[1;33m\u001b[0m\u001b[0m\n\u001b[0m\u001b[0;32m      5\u001b[0m \u001b[0mplt\u001b[0m\u001b[1;33m.\u001b[0m\u001b[0mbar\u001b[0m\u001b[1;33m(\u001b[0m\u001b[0mindex\u001b[0m \u001b[1;33m+\u001b[0m \u001b[0mbar_width\u001b[0m\u001b[1;33m,\u001b[0m \u001b[0mGcount_MaxMin\u001b[0m\u001b[1;33m[\u001b[0m\u001b[1;34m'OUTCOUNT'\u001b[0m\u001b[1;33m]\u001b[0m\u001b[1;33m,\u001b[0m \u001b[0mcolor\u001b[0m \u001b[1;33m=\u001b[0m \u001b[1;34m'g'\u001b[0m\u001b[1;33m,\u001b[0m\u001b[0mwidth\u001b[0m \u001b[1;33m=\u001b[0m \u001b[0mbar_width\u001b[0m\u001b[1;33m,\u001b[0m \u001b[0mlabel\u001b[0m \u001b[1;33m=\u001b[0m \u001b[1;34m'OUTCOUNT'\u001b[0m\u001b[1;33m)\u001b[0m\u001b[1;33m\u001b[0m\u001b[1;33m\u001b[0m\u001b[0m\n\u001b[0;32m      6\u001b[0m \u001b[0mplt\u001b[0m\u001b[1;33m.\u001b[0m\u001b[0mxticks\u001b[0m\u001b[1;33m(\u001b[0m\u001b[0mindex\u001b[0m\u001b[1;33m+\u001b[0m\u001b[1;36m0.2\u001b[0m\u001b[1;33m,\u001b[0m \u001b[0mlabel\u001b[0m\u001b[1;33m)\u001b[0m\u001b[1;33m\u001b[0m\u001b[1;33m\u001b[0m\u001b[0m\n",
      "\u001b[1;32m~\\anaconda3\\lib\\site-packages\\matplotlib\\pyplot.py\u001b[0m in \u001b[0;36mbar\u001b[1;34m(x, height, width, bottom, align, data, **kwargs)\u001b[0m\n\u001b[0;32m   2397\u001b[0m         \u001b[0mx\u001b[0m\u001b[1;33m,\u001b[0m \u001b[0mheight\u001b[0m\u001b[1;33m,\u001b[0m \u001b[0mwidth\u001b[0m\u001b[1;33m=\u001b[0m\u001b[1;36m0.8\u001b[0m\u001b[1;33m,\u001b[0m \u001b[0mbottom\u001b[0m\u001b[1;33m=\u001b[0m\u001b[1;32mNone\u001b[0m\u001b[1;33m,\u001b[0m \u001b[1;33m*\u001b[0m\u001b[1;33m,\u001b[0m \u001b[0malign\u001b[0m\u001b[1;33m=\u001b[0m\u001b[1;34m'center'\u001b[0m\u001b[1;33m,\u001b[0m\u001b[1;33m\u001b[0m\u001b[1;33m\u001b[0m\u001b[0m\n\u001b[0;32m   2398\u001b[0m         data=None, **kwargs):\n\u001b[1;32m-> 2399\u001b[1;33m     return gca().bar(\n\u001b[0m\u001b[0;32m   2400\u001b[0m         \u001b[0mx\u001b[0m\u001b[1;33m,\u001b[0m \u001b[0mheight\u001b[0m\u001b[1;33m,\u001b[0m \u001b[0mwidth\u001b[0m\u001b[1;33m=\u001b[0m\u001b[0mwidth\u001b[0m\u001b[1;33m,\u001b[0m \u001b[0mbottom\u001b[0m\u001b[1;33m=\u001b[0m\u001b[0mbottom\u001b[0m\u001b[1;33m,\u001b[0m \u001b[0malign\u001b[0m\u001b[1;33m=\u001b[0m\u001b[0malign\u001b[0m\u001b[1;33m,\u001b[0m\u001b[1;33m\u001b[0m\u001b[1;33m\u001b[0m\u001b[0m\n\u001b[0;32m   2401\u001b[0m         **({\"data\": data} if data is not None else {}), **kwargs)\n",
      "\u001b[1;32m~\\anaconda3\\lib\\site-packages\\matplotlib\\__init__.py\u001b[0m in \u001b[0;36minner\u001b[1;34m(ax, data, *args, **kwargs)\u001b[0m\n\u001b[0;32m   1410\u001b[0m     \u001b[1;32mdef\u001b[0m \u001b[0minner\u001b[0m\u001b[1;33m(\u001b[0m\u001b[0max\u001b[0m\u001b[1;33m,\u001b[0m \u001b[1;33m*\u001b[0m\u001b[0margs\u001b[0m\u001b[1;33m,\u001b[0m \u001b[0mdata\u001b[0m\u001b[1;33m=\u001b[0m\u001b[1;32mNone\u001b[0m\u001b[1;33m,\u001b[0m \u001b[1;33m**\u001b[0m\u001b[0mkwargs\u001b[0m\u001b[1;33m)\u001b[0m\u001b[1;33m:\u001b[0m\u001b[1;33m\u001b[0m\u001b[1;33m\u001b[0m\u001b[0m\n\u001b[0;32m   1411\u001b[0m         \u001b[1;32mif\u001b[0m \u001b[0mdata\u001b[0m \u001b[1;32mis\u001b[0m \u001b[1;32mNone\u001b[0m\u001b[1;33m:\u001b[0m\u001b[1;33m\u001b[0m\u001b[1;33m\u001b[0m\u001b[0m\n\u001b[1;32m-> 1412\u001b[1;33m             \u001b[1;32mreturn\u001b[0m \u001b[0mfunc\u001b[0m\u001b[1;33m(\u001b[0m\u001b[0max\u001b[0m\u001b[1;33m,\u001b[0m \u001b[1;33m*\u001b[0m\u001b[0mmap\u001b[0m\u001b[1;33m(\u001b[0m\u001b[0msanitize_sequence\u001b[0m\u001b[1;33m,\u001b[0m \u001b[0margs\u001b[0m\u001b[1;33m)\u001b[0m\u001b[1;33m,\u001b[0m \u001b[1;33m**\u001b[0m\u001b[0mkwargs\u001b[0m\u001b[1;33m)\u001b[0m\u001b[1;33m\u001b[0m\u001b[1;33m\u001b[0m\u001b[0m\n\u001b[0m\u001b[0;32m   1413\u001b[0m \u001b[1;33m\u001b[0m\u001b[0m\n\u001b[0;32m   1414\u001b[0m         \u001b[0mbound\u001b[0m \u001b[1;33m=\u001b[0m \u001b[0mnew_sig\u001b[0m\u001b[1;33m.\u001b[0m\u001b[0mbind\u001b[0m\u001b[1;33m(\u001b[0m\u001b[0max\u001b[0m\u001b[1;33m,\u001b[0m \u001b[1;33m*\u001b[0m\u001b[0margs\u001b[0m\u001b[1;33m,\u001b[0m \u001b[1;33m**\u001b[0m\u001b[0mkwargs\u001b[0m\u001b[1;33m)\u001b[0m\u001b[1;33m\u001b[0m\u001b[1;33m\u001b[0m\u001b[0m\n",
      "\u001b[1;32m~\\anaconda3\\lib\\site-packages\\matplotlib\\axes\\_axes.py\u001b[0m in \u001b[0;36mbar\u001b[1;34m(self, x, height, width, bottom, align, **kwargs)\u001b[0m\n\u001b[0;32m   2340\u001b[0m                 \u001b[0myerr\u001b[0m \u001b[1;33m=\u001b[0m \u001b[0mself\u001b[0m\u001b[1;33m.\u001b[0m\u001b[0m_convert_dx\u001b[0m\u001b[1;33m(\u001b[0m\u001b[0myerr\u001b[0m\u001b[1;33m,\u001b[0m \u001b[0my0\u001b[0m\u001b[1;33m,\u001b[0m \u001b[0my\u001b[0m\u001b[1;33m,\u001b[0m \u001b[0mself\u001b[0m\u001b[1;33m.\u001b[0m\u001b[0mconvert_yunits\u001b[0m\u001b[1;33m)\u001b[0m\u001b[1;33m\u001b[0m\u001b[1;33m\u001b[0m\u001b[0m\n\u001b[0;32m   2341\u001b[0m \u001b[1;33m\u001b[0m\u001b[0m\n\u001b[1;32m-> 2342\u001b[1;33m         x, height, width, y, linewidth, hatch = np.broadcast_arrays(\n\u001b[0m\u001b[0;32m   2343\u001b[0m             \u001b[1;31m# Make args iterable too.\u001b[0m\u001b[1;33m\u001b[0m\u001b[1;33m\u001b[0m\u001b[1;33m\u001b[0m\u001b[0m\n\u001b[0;32m   2344\u001b[0m             np.atleast_1d(x), height, width, y, linewidth, hatch)\n",
      "\u001b[1;32m~\\anaconda3\\lib\\site-packages\\numpy\\core\\overrides.py\u001b[0m in \u001b[0;36mbroadcast_arrays\u001b[1;34m(*args, **kwargs)\u001b[0m\n",
      "\u001b[1;32m~\\anaconda3\\lib\\site-packages\\numpy\\lib\\stride_tricks.py\u001b[0m in \u001b[0;36mbroadcast_arrays\u001b[1;34m(subok, *args)\u001b[0m\n\u001b[0;32m    537\u001b[0m     \u001b[0margs\u001b[0m \u001b[1;33m=\u001b[0m \u001b[1;33m[\u001b[0m\u001b[0mnp\u001b[0m\u001b[1;33m.\u001b[0m\u001b[0marray\u001b[0m\u001b[1;33m(\u001b[0m\u001b[0m_m\u001b[0m\u001b[1;33m,\u001b[0m \u001b[0mcopy\u001b[0m\u001b[1;33m=\u001b[0m\u001b[1;32mFalse\u001b[0m\u001b[1;33m,\u001b[0m \u001b[0msubok\u001b[0m\u001b[1;33m=\u001b[0m\u001b[0msubok\u001b[0m\u001b[1;33m)\u001b[0m \u001b[1;32mfor\u001b[0m \u001b[0m_m\u001b[0m \u001b[1;32min\u001b[0m \u001b[0margs\u001b[0m\u001b[1;33m]\u001b[0m\u001b[1;33m\u001b[0m\u001b[1;33m\u001b[0m\u001b[0m\n\u001b[0;32m    538\u001b[0m \u001b[1;33m\u001b[0m\u001b[0m\n\u001b[1;32m--> 539\u001b[1;33m     \u001b[0mshape\u001b[0m \u001b[1;33m=\u001b[0m \u001b[0m_broadcast_shape\u001b[0m\u001b[1;33m(\u001b[0m\u001b[1;33m*\u001b[0m\u001b[0margs\u001b[0m\u001b[1;33m)\u001b[0m\u001b[1;33m\u001b[0m\u001b[1;33m\u001b[0m\u001b[0m\n\u001b[0m\u001b[0;32m    540\u001b[0m \u001b[1;33m\u001b[0m\u001b[0m\n\u001b[0;32m    541\u001b[0m     \u001b[1;32mif\u001b[0m \u001b[0mall\u001b[0m\u001b[1;33m(\u001b[0m\u001b[0marray\u001b[0m\u001b[1;33m.\u001b[0m\u001b[0mshape\u001b[0m \u001b[1;33m==\u001b[0m \u001b[0mshape\u001b[0m \u001b[1;32mfor\u001b[0m \u001b[0marray\u001b[0m \u001b[1;32min\u001b[0m \u001b[0margs\u001b[0m\u001b[1;33m)\u001b[0m\u001b[1;33m:\u001b[0m\u001b[1;33m\u001b[0m\u001b[1;33m\u001b[0m\u001b[0m\n",
      "\u001b[1;32m~\\anaconda3\\lib\\site-packages\\numpy\\lib\\stride_tricks.py\u001b[0m in \u001b[0;36m_broadcast_shape\u001b[1;34m(*args)\u001b[0m\n\u001b[0;32m    419\u001b[0m     \u001b[1;31m# use the old-iterator because np.nditer does not handle size 0 arrays\u001b[0m\u001b[1;33m\u001b[0m\u001b[1;33m\u001b[0m\u001b[1;33m\u001b[0m\u001b[0m\n\u001b[0;32m    420\u001b[0m     \u001b[1;31m# consistently\u001b[0m\u001b[1;33m\u001b[0m\u001b[1;33m\u001b[0m\u001b[1;33m\u001b[0m\u001b[0m\n\u001b[1;32m--> 421\u001b[1;33m     \u001b[0mb\u001b[0m \u001b[1;33m=\u001b[0m \u001b[0mnp\u001b[0m\u001b[1;33m.\u001b[0m\u001b[0mbroadcast\u001b[0m\u001b[1;33m(\u001b[0m\u001b[1;33m*\u001b[0m\u001b[0margs\u001b[0m\u001b[1;33m[\u001b[0m\u001b[1;33m:\u001b[0m\u001b[1;36m32\u001b[0m\u001b[1;33m]\u001b[0m\u001b[1;33m)\u001b[0m\u001b[1;33m\u001b[0m\u001b[1;33m\u001b[0m\u001b[0m\n\u001b[0m\u001b[0;32m    422\u001b[0m     \u001b[1;31m# unfortunately, it cannot handle 32 or more arguments directly\u001b[0m\u001b[1;33m\u001b[0m\u001b[1;33m\u001b[0m\u001b[1;33m\u001b[0m\u001b[0m\n\u001b[0;32m    423\u001b[0m     \u001b[1;32mfor\u001b[0m \u001b[0mpos\u001b[0m \u001b[1;32min\u001b[0m \u001b[0mrange\u001b[0m\u001b[1;33m(\u001b[0m\u001b[1;36m32\u001b[0m\u001b[1;33m,\u001b[0m \u001b[0mlen\u001b[0m\u001b[1;33m(\u001b[0m\u001b[0margs\u001b[0m\u001b[1;33m)\u001b[0m\u001b[1;33m,\u001b[0m \u001b[1;36m31\u001b[0m\u001b[1;33m)\u001b[0m\u001b[1;33m:\u001b[0m\u001b[1;33m\u001b[0m\u001b[1;33m\u001b[0m\u001b[0m\n",
      "\u001b[1;31mValueError\u001b[0m: shape mismatch: objects cannot be broadcast to a single shape.  Mismatch is between arg 0 with shape (4,) and arg 1 with shape (2,)."
     ]
    },
    {
     "data": {
      "image/png": "[encoded data removed]",
      "text/plain": [
       "<Figure size 432x288 with 1 Axes>"
      ]
     },
     "metadata": {
      "needs_background": "light"
     },
     "output_type": "display_data"
    }
   ],
   "source": [
    "Gcount_MaxMin = G_police.groupby(['MONTH'])['INCOUNT', 'OUTCOUNT'].mean()\n",
    "label = ['1월','10월','11월','12월']\n",
    "index = np.arange(len(label))\n",
    "plt.bar(index, Gcount_MaxMin['INCOUNT'], color ='y', width = bar_width, label = 'INCOUNT')\n",
    "plt.bar(index + bar_width, Gcount_MaxMin['OUTCOUNT'], color = 'g',width = bar_width, label = 'OUTCOUNT')\n",
    "plt.xticks(index+0.2, label)\n",
    "plt.legend()\n",
    "plt.show()"
   ]
  },
  {
   "cell_type": "code",
   "execution_count": 51,
   "metadata": {},
   "outputs": [
    {
     "data": {
      "image/png": "[encoded data removed]",
      "text/plain": [
       "<Figure size 432x288 with 1 Axes>"
      ]
     },
     "metadata": {
      "needs_background": "light"
     },
     "output_type": "display_data"
    }
   ],
   "source": [
    "Gcount_IncountMean = G_police.groupby(['HOUR'])['INCOUNT'].mean()\n",
    "Gcount_OutcountMean = G_police.groupby(['HOUR'])['OUTCOUNT'].mean()\n",
    "hours = np.arange(0, 24)\n",
    "plt.plot(hours,Gcount_IncountMean, marker = 'o')\n",
    "plt.plot(hours, Gcount_IncountMean, marker = 'o')\n",
    "plt.legend(['INCOUNT','OUTCOUNT'])\n",
    "plt.show()"
   ]
  },
  {
   "cell_type": "markdown",
   "metadata": {},
   "source": [
    "## 덕성여고 앞 사잇길 월별, 시간별, 요일별 그래프"
   ]
  },
  {
   "cell_type": "code",
   "execution_count": 53,
   "metadata": {},
   "outputs": [
    {
     "data": {
      "text/html": [
       "<div>\n",
       "<style scoped>\n",
       "    .dataframe tbody tr th:only-of-type {\n",
       "        vertical-align: middle;\n",
       "    }\n",
       "\n",
       "    .dataframe tbody tr th {\n",
       "        vertical-align: top;\n",
       "    }\n",
       "\n",
       "    .dataframe thead th {\n",
       "        text-align: right;\n",
       "    }\n",
       "</style>\n",
       "<table border=\"1\" class=\"dataframe\">\n",
       "  <thead>\n",
       "    <tr style=\"text-align: right;\">\n",
       "      <th></th>\n",
       "      <th>DEVICEID</th>\n",
       "      <th>DEVICENAME</th>\n",
       "      <th>DESCRIPTION</th>\n",
       "      <th>STARTTIME</th>\n",
       "      <th>ENDTIME</th>\n",
       "      <th>INCOUNT</th>\n",
       "      <th>OUTCOUNT</th>\n",
       "      <th>MONTH</th>\n",
       "      <th>WEEK</th>\n",
       "      <th>TOTAL</th>\n",
       "      <th>HOUR</th>\n",
       "      <th>WEEKDAY</th>\n",
       "    </tr>\n",
       "  </thead>\n",
       "  <tbody>\n",
       "    <tr>\n",
       "      <th>1</th>\n",
       "      <td>1.0</td>\n",
       "      <td>율곡로3길 50</td>\n",
       "      <td>덕성여고 앞</td>\n",
       "      <td>2023-01-29 17:00:40</td>\n",
       "      <td>2023-01-29 17:10:40</td>\n",
       "      <td>2820.0</td>\n",
       "      <td>3291.0</td>\n",
       "      <td>1</td>\n",
       "      <td>Sunday</td>\n",
       "      <td>6111.0</td>\n",
       "      <td>17</td>\n",
       "      <td>6</td>\n",
       "    </tr>\n",
       "    <tr>\n",
       "      <th>3</th>\n",
       "      <td>1.0</td>\n",
       "      <td>율곡로3길 50</td>\n",
       "      <td>덕성여고 앞</td>\n",
       "      <td>2023-01-29 17:10:40</td>\n",
       "      <td>2023-01-29 17:20:40</td>\n",
       "      <td>2857.0</td>\n",
       "      <td>3429.0</td>\n",
       "      <td>1</td>\n",
       "      <td>Sunday</td>\n",
       "      <td>6286.0</td>\n",
       "      <td>17</td>\n",
       "      <td>6</td>\n",
       "    </tr>\n",
       "    <tr>\n",
       "      <th>5</th>\n",
       "      <td>1.0</td>\n",
       "      <td>율곡로3길 50</td>\n",
       "      <td>덕성여고 앞</td>\n",
       "      <td>2023-01-29 17:20:40</td>\n",
       "      <td>2023-01-29 17:30:40</td>\n",
       "      <td>2912.0</td>\n",
       "      <td>3584.0</td>\n",
       "      <td>1</td>\n",
       "      <td>Sunday</td>\n",
       "      <td>6496.0</td>\n",
       "      <td>17</td>\n",
       "      <td>6</td>\n",
       "    </tr>\n",
       "    <tr>\n",
       "      <th>7</th>\n",
       "      <td>1.0</td>\n",
       "      <td>율곡로3길 50</td>\n",
       "      <td>덕성여고 앞</td>\n",
       "      <td>2023-01-29 17:30:40</td>\n",
       "      <td>2023-01-29 17:40:40</td>\n",
       "      <td>2956.0</td>\n",
       "      <td>3670.0</td>\n",
       "      <td>1</td>\n",
       "      <td>Sunday</td>\n",
       "      <td>6626.0</td>\n",
       "      <td>17</td>\n",
       "      <td>6</td>\n",
       "    </tr>\n",
       "    <tr>\n",
       "      <th>9</th>\n",
       "      <td>1.0</td>\n",
       "      <td>율곡로3길 50</td>\n",
       "      <td>덕성여고 앞</td>\n",
       "      <td>2023-01-29 17:40:40</td>\n",
       "      <td>2023-01-29 17:50:40</td>\n",
       "      <td>3007.0</td>\n",
       "      <td>3748.0</td>\n",
       "      <td>1</td>\n",
       "      <td>Sunday</td>\n",
       "      <td>6755.0</td>\n",
       "      <td>17</td>\n",
       "      <td>6</td>\n",
       "    </tr>\n",
       "    <tr>\n",
       "      <th>...</th>\n",
       "      <td>...</td>\n",
       "      <td>...</td>\n",
       "      <td>...</td>\n",
       "      <td>...</td>\n",
       "      <td>...</td>\n",
       "      <td>...</td>\n",
       "      <td>...</td>\n",
       "      <td>...</td>\n",
       "      <td>...</td>\n",
       "      <td>...</td>\n",
       "      <td>...</td>\n",
       "      <td>...</td>\n",
       "    </tr>\n",
       "    <tr>\n",
       "      <th>875</th>\n",
       "      <td>1.0</td>\n",
       "      <td>율곡로3길 50</td>\n",
       "      <td>덕성여고 앞</td>\n",
       "      <td>2022-12-08 23:30:41</td>\n",
       "      <td>2022-12-08 23:40:41</td>\n",
       "      <td>8930.0</td>\n",
       "      <td>6837.0</td>\n",
       "      <td>12</td>\n",
       "      <td>Thursday</td>\n",
       "      <td>15767.0</td>\n",
       "      <td>23</td>\n",
       "      <td>3</td>\n",
       "    </tr>\n",
       "    <tr>\n",
       "      <th>877</th>\n",
       "      <td>1.0</td>\n",
       "      <td>율곡로3길 50</td>\n",
       "      <td>덕성여고 앞</td>\n",
       "      <td>2022-12-09 03:00:41</td>\n",
       "      <td>2022-12-09 03:10:41</td>\n",
       "      <td>105.0</td>\n",
       "      <td>26.0</td>\n",
       "      <td>12</td>\n",
       "      <td>Friday</td>\n",
       "      <td>131.0</td>\n",
       "      <td>3</td>\n",
       "      <td>4</td>\n",
       "    </tr>\n",
       "    <tr>\n",
       "      <th>879</th>\n",
       "      <td>1.0</td>\n",
       "      <td>율곡로3길 50</td>\n",
       "      <td>덕성여고 앞</td>\n",
       "      <td>2022-12-09 05:10:42</td>\n",
       "      <td>2022-12-09 05:20:42</td>\n",
       "      <td>148.0</td>\n",
       "      <td>58.0</td>\n",
       "      <td>12</td>\n",
       "      <td>Friday</td>\n",
       "      <td>206.0</td>\n",
       "      <td>5</td>\n",
       "      <td>4</td>\n",
       "    </tr>\n",
       "    <tr>\n",
       "      <th>883</th>\n",
       "      <td>1.0</td>\n",
       "      <td>율곡로3길 50</td>\n",
       "      <td>덕성여고 앞</td>\n",
       "      <td>2022-12-01 08:50:41</td>\n",
       "      <td>2022-12-01 09:00:41</td>\n",
       "      <td>1702.0</td>\n",
       "      <td>448.0</td>\n",
       "      <td>12</td>\n",
       "      <td>Thursday</td>\n",
       "      <td>2150.0</td>\n",
       "      <td>9</td>\n",
       "      <td>3</td>\n",
       "    </tr>\n",
       "    <tr>\n",
       "      <th>951</th>\n",
       "      <td>1.0</td>\n",
       "      <td>율곡로3길 50</td>\n",
       "      <td>덕성여고 앞</td>\n",
       "      <td>2022-12-02 17:10:42</td>\n",
       "      <td>2022-12-02 17:20:42</td>\n",
       "      <td>5830.0</td>\n",
       "      <td>4032.0</td>\n",
       "      <td>12</td>\n",
       "      <td>Friday</td>\n",
       "      <td>9862.0</td>\n",
       "      <td>17</td>\n",
       "      <td>4</td>\n",
       "    </tr>\n",
       "  </tbody>\n",
       "</table>\n",
       "<p>12020 rows × 12 columns</p>\n",
       "</div>"
      ],
      "text/plain": [
       "     DEVICEID DEVICENAME DESCRIPTION            STARTTIME             ENDTIME  \\\n",
       "1         1.0   율곡로3길 50      덕성여고 앞  2023-01-29 17:00:40 2023-01-29 17:10:40   \n",
       "3         1.0   율곡로3길 50      덕성여고 앞  2023-01-29 17:10:40 2023-01-29 17:20:40   \n",
       "5         1.0   율곡로3길 50      덕성여고 앞  2023-01-29 17:20:40 2023-01-29 17:30:40   \n",
       "7         1.0   율곡로3길 50      덕성여고 앞  2023-01-29 17:30:40 2023-01-29 17:40:40   \n",
       "9         1.0   율곡로3길 50      덕성여고 앞  2023-01-29 17:40:40 2023-01-29 17:50:40   \n",
       "..        ...        ...         ...                  ...                 ...   \n",
       "875       1.0   율곡로3길 50      덕성여고 앞  2022-12-08 23:30:41 2022-12-08 23:40:41   \n",
       "877       1.0   율곡로3길 50      덕성여고 앞  2022-12-09 03:00:41 2022-12-09 03:10:41   \n",
       "879       1.0   율곡로3길 50      덕성여고 앞  2022-12-09 05:10:42 2022-12-09 05:20:42   \n",
       "883       1.0   율곡로3길 50      덕성여고 앞  2022-12-01 08:50:41 2022-12-01 09:00:41   \n",
       "951       1.0   율곡로3길 50      덕성여고 앞  2022-12-02 17:10:42 2022-12-02 17:20:42   \n",
       "\n",
       "     INCOUNT  OUTCOUNT  MONTH      WEEK    TOTAL  HOUR  WEEKDAY  \n",
       "1     2820.0    3291.0      1    Sunday   6111.0    17        6  \n",
       "3     2857.0    3429.0      1    Sunday   6286.0    17        6  \n",
       "5     2912.0    3584.0      1    Sunday   6496.0    17        6  \n",
       "7     2956.0    3670.0      1    Sunday   6626.0    17        6  \n",
       "9     3007.0    3748.0      1    Sunday   6755.0    17        6  \n",
       "..       ...       ...    ...       ...      ...   ...      ...  \n",
       "875   8930.0    6837.0     12  Thursday  15767.0    23        3  \n",
       "877    105.0      26.0     12    Friday    131.0     3        4  \n",
       "879    148.0      58.0     12    Friday    206.0     5        4  \n",
       "883   1702.0     448.0     12  Thursday   2150.0     9        3  \n",
       "951   5830.0    4032.0     12    Friday   9862.0    17        4  \n",
       "\n",
       "[12020 rows x 12 columns]"
      ]
     },
     "execution_count": 53,
     "metadata": {},
     "output_type": "execute_result"
    }
   ],
   "source": [
    "G_school = cctv_df.loc[cctv_df['DESCRIPTION'] == '덕성여고 앞',:]\n",
    "G_school"
   ]
  },
  {
   "cell_type": "code",
   "execution_count": 55,
   "metadata": {
    "scrolled": true
   },
   "outputs": [
    {
     "data": {
      "image/png": "[encoded data removed]",
      "text/plain": [
       "<Figure size 432x288 with 1 Axes>"
      ]
     },
     "metadata": {
      "needs_background": "light"
     },
     "output_type": "display_data"
    }
   ],
   "source": [
    "Gcount_countMean = G_school.groupby(['WEEKDAY'])['INCOUNT','OUTCOUNT'].mean()\n",
    "bar_width = 0.4\n",
    "days = ['월요일', '화요일', '수요일', '목요일', '금요일', '토요일', '일요일']\n",
    "index = np.arange(len(days))\n",
    "plt.bar(index, Gcount_countMean['INCOUNT'], color ='y', width = bar_width, label = 'INCOUNT')\n",
    "plt.bar(index + bar_width, Gcount_countMean['OUTCOUNT'], color = 'g',width = bar_width, label = 'OUTCOUNT')\n",
    "plt.xticks(index+0.2, days)\n",
    "plt.legend()\n",
    "plt.show()"
   ]
  },
  {
   "cell_type": "code",
   "execution_count": 60,
   "metadata": {
    "scrolled": true
   },
   "outputs": [
    {
     "ename": "ValueError",
     "evalue": "shape mismatch: objects cannot be broadcast to a single shape.  Mismatch is between arg 0 with shape (4,) and arg 1 with shape (3,).",
     "output_type": "error",
     "traceback": [
      "\u001b[1;31m---------------------------------------------------------------------------\u001b[0m",
      "\u001b[1;31mValueError\u001b[0m                                Traceback (most recent call last)",
      "\u001b[1;32m<ipython-input-60-1dffb9068e8b>\u001b[0m in \u001b[0;36m<module>\u001b[1;34m\u001b[0m\n\u001b[0;32m      3\u001b[0m \u001b[0mlabel\u001b[0m \u001b[1;33m=\u001b[0m \u001b[1;33m[\u001b[0m\u001b[1;34m'1월'\u001b[0m\u001b[1;33m,\u001b[0m\u001b[1;34m'10월'\u001b[0m\u001b[1;33m,\u001b[0m\u001b[1;34m'11월'\u001b[0m\u001b[1;33m,\u001b[0m\u001b[1;34m'12월'\u001b[0m\u001b[1;33m]\u001b[0m\u001b[1;33m\u001b[0m\u001b[1;33m\u001b[0m\u001b[0m\n\u001b[0;32m      4\u001b[0m \u001b[0mindex\u001b[0m \u001b[1;33m=\u001b[0m \u001b[0mnp\u001b[0m\u001b[1;33m.\u001b[0m\u001b[0marange\u001b[0m\u001b[1;33m(\u001b[0m\u001b[0mlen\u001b[0m\u001b[1;33m(\u001b[0m\u001b[0mlabel\u001b[0m\u001b[1;33m)\u001b[0m\u001b[1;33m)\u001b[0m\u001b[1;33m\u001b[0m\u001b[1;33m\u001b[0m\u001b[0m\n\u001b[1;32m----> 5\u001b[1;33m \u001b[0mplt\u001b[0m\u001b[1;33m.\u001b[0m\u001b[0mbar\u001b[0m\u001b[1;33m(\u001b[0m\u001b[0mindex\u001b[0m\u001b[1;33m,\u001b[0m \u001b[0mGcount_MaxMin\u001b[0m\u001b[1;33m[\u001b[0m\u001b[1;34m'INCOUNT'\u001b[0m\u001b[1;33m]\u001b[0m\u001b[1;33m,\u001b[0m \u001b[0mcolor\u001b[0m \u001b[1;33m=\u001b[0m\u001b[1;34m'r'\u001b[0m\u001b[1;33m,\u001b[0m \u001b[0mwidth\u001b[0m \u001b[1;33m=\u001b[0m \u001b[0mbar_width\u001b[0m\u001b[1;33m,\u001b[0m \u001b[0mlabel\u001b[0m \u001b[1;33m=\u001b[0m \u001b[1;34m'INCOUNT'\u001b[0m\u001b[1;33m)\u001b[0m\u001b[1;33m\u001b[0m\u001b[1;33m\u001b[0m\u001b[0m\n\u001b[0m\u001b[0;32m      6\u001b[0m \u001b[0mplt\u001b[0m\u001b[1;33m.\u001b[0m\u001b[0mbar\u001b[0m\u001b[1;33m(\u001b[0m\u001b[0mindex\u001b[0m \u001b[1;33m+\u001b[0m \u001b[0mbar_width\u001b[0m\u001b[1;33m,\u001b[0m \u001b[0mGcount_MaxMin\u001b[0m\u001b[1;33m[\u001b[0m\u001b[1;34m'OUTCOUNT'\u001b[0m\u001b[1;33m]\u001b[0m\u001b[1;33m,\u001b[0m \u001b[0mcolor\u001b[0m \u001b[1;33m=\u001b[0m \u001b[1;34m'c'\u001b[0m\u001b[1;33m,\u001b[0m\u001b[0mwidth\u001b[0m \u001b[1;33m=\u001b[0m \u001b[0mbar_width\u001b[0m\u001b[1;33m,\u001b[0m \u001b[0mlabel\u001b[0m \u001b[1;33m=\u001b[0m \u001b[1;34m'OUTCOUNT'\u001b[0m\u001b[1;33m)\u001b[0m\u001b[1;33m\u001b[0m\u001b[1;33m\u001b[0m\u001b[0m\n\u001b[0;32m      7\u001b[0m \u001b[0mplt\u001b[0m\u001b[1;33m.\u001b[0m\u001b[0mxticks\u001b[0m\u001b[1;33m(\u001b[0m\u001b[0mindex\u001b[0m\u001b[1;33m+\u001b[0m\u001b[1;36m0.2\u001b[0m\u001b[1;33m,\u001b[0m \u001b[0mlabel\u001b[0m\u001b[1;33m)\u001b[0m\u001b[1;33m\u001b[0m\u001b[1;33m\u001b[0m\u001b[0m\n",
      "\u001b[1;32m~\\anaconda3\\lib\\site-packages\\matplotlib\\pyplot.py\u001b[0m in \u001b[0;36mbar\u001b[1;34m(x, height, width, bottom, align, data, **kwargs)\u001b[0m\n\u001b[0;32m   2397\u001b[0m         \u001b[0mx\u001b[0m\u001b[1;33m,\u001b[0m \u001b[0mheight\u001b[0m\u001b[1;33m,\u001b[0m \u001b[0mwidth\u001b[0m\u001b[1;33m=\u001b[0m\u001b[1;36m0.8\u001b[0m\u001b[1;33m,\u001b[0m \u001b[0mbottom\u001b[0m\u001b[1;33m=\u001b[0m\u001b[1;32mNone\u001b[0m\u001b[1;33m,\u001b[0m \u001b[1;33m*\u001b[0m\u001b[1;33m,\u001b[0m \u001b[0malign\u001b[0m\u001b[1;33m=\u001b[0m\u001b[1;34m'center'\u001b[0m\u001b[1;33m,\u001b[0m\u001b[1;33m\u001b[0m\u001b[1;33m\u001b[0m\u001b[0m\n\u001b[0;32m   2398\u001b[0m         data=None, **kwargs):\n\u001b[1;32m-> 2399\u001b[1;33m     return gca().bar(\n\u001b[0m\u001b[0;32m   2400\u001b[0m         \u001b[0mx\u001b[0m\u001b[1;33m,\u001b[0m \u001b[0mheight\u001b[0m\u001b[1;33m,\u001b[0m \u001b[0mwidth\u001b[0m\u001b[1;33m=\u001b[0m\u001b[0mwidth\u001b[0m\u001b[1;33m,\u001b[0m \u001b[0mbottom\u001b[0m\u001b[1;33m=\u001b[0m\u001b[0mbottom\u001b[0m\u001b[1;33m,\u001b[0m \u001b[0malign\u001b[0m\u001b[1;33m=\u001b[0m\u001b[0malign\u001b[0m\u001b[1;33m,\u001b[0m\u001b[1;33m\u001b[0m\u001b[1;33m\u001b[0m\u001b[0m\n\u001b[0;32m   2401\u001b[0m         **({\"data\": data} if data is not None else {}), **kwargs)\n",
      "\u001b[1;32m~\\anaconda3\\lib\\site-packages\\matplotlib\\__init__.py\u001b[0m in \u001b[0;36minner\u001b[1;34m(ax, data, *args, **kwargs)\u001b[0m\n\u001b[0;32m   1410\u001b[0m     \u001b[1;32mdef\u001b[0m \u001b[0minner\u001b[0m\u001b[1;33m(\u001b[0m\u001b[0max\u001b[0m\u001b[1;33m,\u001b[0m \u001b[1;33m*\u001b[0m\u001b[0margs\u001b[0m\u001b[1;33m,\u001b[0m \u001b[0mdata\u001b[0m\u001b[1;33m=\u001b[0m\u001b[1;32mNone\u001b[0m\u001b[1;33m,\u001b[0m \u001b[1;33m**\u001b[0m\u001b[0mkwargs\u001b[0m\u001b[1;33m)\u001b[0m\u001b[1;33m:\u001b[0m\u001b[1;33m\u001b[0m\u001b[1;33m\u001b[0m\u001b[0m\n\u001b[0;32m   1411\u001b[0m         \u001b[1;32mif\u001b[0m \u001b[0mdata\u001b[0m \u001b[1;32mis\u001b[0m \u001b[1;32mNone\u001b[0m\u001b[1;33m:\u001b[0m\u001b[1;33m\u001b[0m\u001b[1;33m\u001b[0m\u001b[0m\n\u001b[1;32m-> 1412\u001b[1;33m             \u001b[1;32mreturn\u001b[0m \u001b[0mfunc\u001b[0m\u001b[1;33m(\u001b[0m\u001b[0max\u001b[0m\u001b[1;33m,\u001b[0m \u001b[1;33m*\u001b[0m\u001b[0mmap\u001b[0m\u001b[1;33m(\u001b[0m\u001b[0msanitize_sequence\u001b[0m\u001b[1;33m,\u001b[0m \u001b[0margs\u001b[0m\u001b[1;33m)\u001b[0m\u001b[1;33m,\u001b[0m \u001b[1;33m**\u001b[0m\u001b[0mkwargs\u001b[0m\u001b[1;33m)\u001b[0m\u001b[1;33m\u001b[0m\u001b[1;33m\u001b[0m\u001b[0m\n\u001b[0m\u001b[0;32m   1413\u001b[0m \u001b[1;33m\u001b[0m\u001b[0m\n\u001b[0;32m   1414\u001b[0m         \u001b[0mbound\u001b[0m \u001b[1;33m=\u001b[0m \u001b[0mnew_sig\u001b[0m\u001b[1;33m.\u001b[0m\u001b[0mbind\u001b[0m\u001b[1;33m(\u001b[0m\u001b[0max\u001b[0m\u001b[1;33m,\u001b[0m \u001b[1;33m*\u001b[0m\u001b[0margs\u001b[0m\u001b[1;33m,\u001b[0m \u001b[1;33m**\u001b[0m\u001b[0mkwargs\u001b[0m\u001b[1;33m)\u001b[0m\u001b[1;33m\u001b[0m\u001b[1;33m\u001b[0m\u001b[0m\n",
      "\u001b[1;32m~\\anaconda3\\lib\\site-packages\\matplotlib\\axes\\_axes.py\u001b[0m in \u001b[0;36mbar\u001b[1;34m(self, x, height, width, bottom, align, **kwargs)\u001b[0m\n\u001b[0;32m   2340\u001b[0m                 \u001b[0myerr\u001b[0m \u001b[1;33m=\u001b[0m \u001b[0mself\u001b[0m\u001b[1;33m.\u001b[0m\u001b[0m_convert_dx\u001b[0m\u001b[1;33m(\u001b[0m\u001b[0myerr\u001b[0m\u001b[1;33m,\u001b[0m \u001b[0my0\u001b[0m\u001b[1;33m,\u001b[0m \u001b[0my\u001b[0m\u001b[1;33m,\u001b[0m \u001b[0mself\u001b[0m\u001b[1;33m.\u001b[0m\u001b[0mconvert_yunits\u001b[0m\u001b[1;33m)\u001b[0m\u001b[1;33m\u001b[0m\u001b[1;33m\u001b[0m\u001b[0m\n\u001b[0;32m   2341\u001b[0m \u001b[1;33m\u001b[0m\u001b[0m\n\u001b[1;32m-> 2342\u001b[1;33m         x, height, width, y, linewidth, hatch = np.broadcast_arrays(\n\u001b[0m\u001b[0;32m   2343\u001b[0m             \u001b[1;31m# Make args iterable too.\u001b[0m\u001b[1;33m\u001b[0m\u001b[1;33m\u001b[0m\u001b[1;33m\u001b[0m\u001b[0m\n\u001b[0;32m   2344\u001b[0m             np.atleast_1d(x), height, width, y, linewidth, hatch)\n",
      "\u001b[1;32m~\\anaconda3\\lib\\site-packages\\numpy\\core\\overrides.py\u001b[0m in \u001b[0;36mbroadcast_arrays\u001b[1;34m(*args, **kwargs)\u001b[0m\n",
      "\u001b[1;32m~\\anaconda3\\lib\\site-packages\\numpy\\lib\\stride_tricks.py\u001b[0m in \u001b[0;36mbroadcast_arrays\u001b[1;34m(subok, *args)\u001b[0m\n\u001b[0;32m    537\u001b[0m     \u001b[0margs\u001b[0m \u001b[1;33m=\u001b[0m \u001b[1;33m[\u001b[0m\u001b[0mnp\u001b[0m\u001b[1;33m.\u001b[0m\u001b[0marray\u001b[0m\u001b[1;33m(\u001b[0m\u001b[0m_m\u001b[0m\u001b[1;33m,\u001b[0m \u001b[0mcopy\u001b[0m\u001b[1;33m=\u001b[0m\u001b[1;32mFalse\u001b[0m\u001b[1;33m,\u001b[0m \u001b[0msubok\u001b[0m\u001b[1;33m=\u001b[0m\u001b[0msubok\u001b[0m\u001b[1;33m)\u001b[0m \u001b[1;32mfor\u001b[0m \u001b[0m_m\u001b[0m \u001b[1;32min\u001b[0m \u001b[0margs\u001b[0m\u001b[1;33m]\u001b[0m\u001b[1;33m\u001b[0m\u001b[1;33m\u001b[0m\u001b[0m\n\u001b[0;32m    538\u001b[0m \u001b[1;33m\u001b[0m\u001b[0m\n\u001b[1;32m--> 539\u001b[1;33m     \u001b[0mshape\u001b[0m \u001b[1;33m=\u001b[0m \u001b[0m_broadcast_shape\u001b[0m\u001b[1;33m(\u001b[0m\u001b[1;33m*\u001b[0m\u001b[0margs\u001b[0m\u001b[1;33m)\u001b[0m\u001b[1;33m\u001b[0m\u001b[1;33m\u001b[0m\u001b[0m\n\u001b[0m\u001b[0;32m    540\u001b[0m \u001b[1;33m\u001b[0m\u001b[0m\n\u001b[0;32m    541\u001b[0m     \u001b[1;32mif\u001b[0m \u001b[0mall\u001b[0m\u001b[1;33m(\u001b[0m\u001b[0marray\u001b[0m\u001b[1;33m.\u001b[0m\u001b[0mshape\u001b[0m \u001b[1;33m==\u001b[0m \u001b[0mshape\u001b[0m \u001b[1;32mfor\u001b[0m \u001b[0marray\u001b[0m \u001b[1;32min\u001b[0m \u001b[0margs\u001b[0m\u001b[1;33m)\u001b[0m\u001b[1;33m:\u001b[0m\u001b[1;33m\u001b[0m\u001b[1;33m\u001b[0m\u001b[0m\n",
      "\u001b[1;32m~\\anaconda3\\lib\\site-packages\\numpy\\lib\\stride_tricks.py\u001b[0m in \u001b[0;36m_broadcast_shape\u001b[1;34m(*args)\u001b[0m\n\u001b[0;32m    419\u001b[0m     \u001b[1;31m# use the old-iterator because np.nditer does not handle size 0 arrays\u001b[0m\u001b[1;33m\u001b[0m\u001b[1;33m\u001b[0m\u001b[1;33m\u001b[0m\u001b[0m\n\u001b[0;32m    420\u001b[0m     \u001b[1;31m# consistently\u001b[0m\u001b[1;33m\u001b[0m\u001b[1;33m\u001b[0m\u001b[1;33m\u001b[0m\u001b[0m\n\u001b[1;32m--> 421\u001b[1;33m     \u001b[0mb\u001b[0m \u001b[1;33m=\u001b[0m \u001b[0mnp\u001b[0m\u001b[1;33m.\u001b[0m\u001b[0mbroadcast\u001b[0m\u001b[1;33m(\u001b[0m\u001b[1;33m*\u001b[0m\u001b[0margs\u001b[0m\u001b[1;33m[\u001b[0m\u001b[1;33m:\u001b[0m\u001b[1;36m32\u001b[0m\u001b[1;33m]\u001b[0m\u001b[1;33m)\u001b[0m\u001b[1;33m\u001b[0m\u001b[1;33m\u001b[0m\u001b[0m\n\u001b[0m\u001b[0;32m    422\u001b[0m     \u001b[1;31m# unfortunately, it cannot handle 32 or more arguments directly\u001b[0m\u001b[1;33m\u001b[0m\u001b[1;33m\u001b[0m\u001b[1;33m\u001b[0m\u001b[0m\n\u001b[0;32m    423\u001b[0m     \u001b[1;32mfor\u001b[0m \u001b[0mpos\u001b[0m \u001b[1;32min\u001b[0m \u001b[0mrange\u001b[0m\u001b[1;33m(\u001b[0m\u001b[1;36m32\u001b[0m\u001b[1;33m,\u001b[0m \u001b[0mlen\u001b[0m\u001b[1;33m(\u001b[0m\u001b[0margs\u001b[0m\u001b[1;33m)\u001b[0m\u001b[1;33m,\u001b[0m \u001b[1;36m31\u001b[0m\u001b[1;33m)\u001b[0m\u001b[1;33m:\u001b[0m\u001b[1;33m\u001b[0m\u001b[1;33m\u001b[0m\u001b[0m\n",
      "\u001b[1;31mValueError\u001b[0m: shape mismatch: objects cannot be broadcast to a single shape.  Mismatch is between arg 0 with shape (4,) and arg 1 with shape (3,)."
     ]
    },
    {
     "data": {
      "image/png": "[encoded data removed]",
      "text/plain": [
       "<Figure size 432x288 with 1 Axes>"
      ]
     },
     "metadata": {
      "needs_background": "light"
     },
     "output_type": "display_data"
    }
   ],
   "source": [
    "Gcount_MaxMin = G_school.groupby(['MONTH'])['INCOUNT', 'OUTCOUNT'].mean()\n",
    "bar_width = 0.4\n",
    "label = ['1월','10월','11월','12월']\n",
    "index = np.arange(len(label))\n",
    "plt.bar(index, Gcount_MaxMin['INCOUNT'], color ='r', width = bar_width, label = 'INCOUNT')\n",
    "plt.bar(index + bar_width, Gcount_MaxMin['OUTCOUNT'], color = 'c',width = bar_width, label = 'OUTCOUNT')\n",
    "plt.xticks(index+0.2, label)\n",
    "plt.legend()\n",
    "plt.show()"
   ]
  },
  {
   "cell_type": "code",
   "execution_count": 58,
   "metadata": {},
   "outputs": [
    {
     "data": {
      "image/png": "[encoded data removed]",
      "text/plain": [
       "<Figure size 432x288 with 1 Axes>"
      ]
     },
     "metadata": {
      "needs_background": "light"
     },
     "output_type": "display_data"
    }
   ],
   "source": [
    "Gcount_IncountMean = G_school.groupby(['HOUR'])['INCOUNT'].mean()\n",
    "Gcount_OutcountMean = G_school.groupby(['HOUR'])['OUTCOUNT'].mean()\n",
    "hours = np.arange(0, 24)\n",
    "plt.plot(hours,Gcount_IncountMean, marker = 'o')\n",
    "plt.plot(hours, Gcount_IncountMean, marker = 'o')\n",
    "plt.legend(['INCOUNT','OUTCOUNT'])\n",
    "plt.show()"
   ]
  }
 ],
 "metadata": {
  "kernelspec": {
   "display_name": "Python 3",
   "language": "python",
   "name": "python3"
  },
  "language_info": {
   "codemirror_mode": {
    "name": "ipython",
    "version": 3
   },
   "file_extension": ".py",
   "mimetype": "text/x-python",
   "name": "python",
   "nbconvert_exporter": "python",
   "pygments_lexer": "ipython3",
   "version": "3.8.5"
  }
 },
 "nbformat": 4,
 "nbformat_minor": 4
}
